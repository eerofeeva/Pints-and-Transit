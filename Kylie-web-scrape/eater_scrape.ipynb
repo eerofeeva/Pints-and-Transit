{
 "cells": [
  {
   "cell_type": "code",
   "execution_count": 3,
   "metadata": {},
   "outputs": [],
   "source": [
    "from bs4 import BeautifulSoup as bs\n",
    "import time\n",
    "import requests\n",
    "from splinter import Browser\n",
    "import pandas as pd\n",
    "import warnings\n",
    "\n",
    "warnings.filterwarnings('ignore')"
   ]
  },
  {
   "cell_type": "code",
   "execution_count": 4,
   "metadata": {},
   "outputs": [],
   "source": [
    "### Eater\n",
    "url = 'https://twincities.eater.com/'"
   ]
  },
  {
   "cell_type": "code",
   "execution_count": 5,
   "metadata": {},
   "outputs": [],
   "source": [
    "executable_path = {'executable_path': 'c:/bin/chromedriver'}\n",
    "browser = Browser('chrome', **executable_path, headless=False)"
   ]
  },
  {
   "cell_type": "code",
   "execution_count": 6,
   "metadata": {},
   "outputs": [],
   "source": [
    "browser.visit(url)\n",
    "html = browser.html\n",
    "soup = bs(html, 'html.parser')"
   ]
  },
  {
   "cell_type": "code",
   "execution_count": 15,
   "metadata": {},
   "outputs": [],
   "source": [
    "titles = soup.find_all(\"h2\", class_=\"c-entry-box--compact__title\")"
   ]
  },
  {
   "cell_type": "code",
   "execution_count": 60,
   "metadata": {},
   "outputs": [],
   "source": [
    "matches = [\"Beer\", \"Brewery\", \"Breweries\", \"Wine\", \"Winery\", \"Wineries\", \"Growler\", \"Growlers\", \"Cocktail\", \"Cocktails\", \"Alcohol\", \"Bike\", \"Bikes\", \"Cycle\", \"Cyclist\", \"Cyclists\", \"Alcohol\", \"Liquor\", \"Bar\", \"Bars\"]"
   ]
  },
  {
   "cell_type": "code",
   "execution_count": 89,
   "metadata": {},
   "outputs": [],
   "source": [
    "x = 0\n",
    "\n",
    "article_titles = []\n",
    "links = []\n",
    "\n",
    "for title in titles:\n",
    "    if any(y in titles[x].string for y in matches) == True:\n",
    "        article_titles.append(titles[x].string)\n",
    "        links.append(titles[x].find('a').get('href'))\n",
    "        x = x + 1\n",
    "    else:\n",
    "        x = x + 1"
   ]
  },
  {
   "cell_type": "code",
   "execution_count": 90,
   "metadata": {},
   "outputs": [
    {
     "name": "stdout",
     "output_type": "stream",
     "text": [
      "['Twin Cities Restaurants Band Together to Push for Legalized Cocktail Sales', 'Newly Formed Alliance of Minnesota Breweries Fights for the Right to Sell Growlers', 'Minnesota Legislators Need to Pass Cocktails To-Go Now', 'Dining at Bars and Restaurants Returns to Minnesota on January 11', '10 Incredible Wine Lists to Take Advantage of in Minneapolis and St. Paul', 'Bartender Builds Astounding Lego Models of Iconic Minneapolis Bars']\n",
      "['https://twincities.eater.com/2021/2/1/22260641/legalzie-cocktails-to-go-sales-delivery-restaurants-minnesota-minneapolis-st-paul', 'https://twincities.eater.com/2021/1/28/22250680/growler-cap-crowler-on-site-sales-craft-brewers-alliance', 'https://twincities.eater.com/2021/1/5/22214969/op-ed-to-go-cocktails-minnesota-legalized-covid-bars', 'https://twincities.eater.com/2021/1/7/22218492/bars-restaurants-reopen-resume-dining-indoors-minnesota-minneapolis-st-paul', 'https://twincities.eater.com/2020/12/18/22188689/best-wine-list-to-go-takeout-restaurants-minneapolis-st-paul', 'https://twincities.eater.com/2020/12/3/22150956/bartender-artist-lego-models-minneapolis-dive-bars-restaurants']\n"
     ]
    }
   ],
   "source": [
    "print(article_titles)\n",
    "print(links)"
   ]
  }
 ],
 "metadata": {
  "kernelspec": {
   "display_name": "Python 3",
   "language": "python",
   "name": "python3"
  },
  "language_info": {
   "codemirror_mode": {
    "name": "ipython",
    "version": 3
   },
   "file_extension": ".py",
   "mimetype": "text/x-python",
   "name": "python",
   "nbconvert_exporter": "python",
   "pygments_lexer": "ipython3",
   "version": "3.6.10"
  },
  "varInspector": {
   "cols": {
    "lenName": 16,
    "lenType": 16,
    "lenVar": 40
   },
   "kernels_config": {
    "python": {
     "delete_cmd_postfix": "",
     "delete_cmd_prefix": "del ",
     "library": "var_list.py",
     "varRefreshCmd": "print(var_dic_list())"
    },
    "r": {
     "delete_cmd_postfix": ") ",
     "delete_cmd_prefix": "rm(",
     "library": "var_list.r",
     "varRefreshCmd": "cat(var_dic_list()) "
    }
   },
   "types_to_exclude": [
    "module",
    "function",
    "builtin_function_or_method",
    "instance",
    "_Feature"
   ],
   "window_display": false
  }
 },
 "nbformat": 4,
 "nbformat_minor": 2
}
