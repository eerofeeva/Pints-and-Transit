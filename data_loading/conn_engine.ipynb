{
 "metadata": {
  "language_info": {
   "codemirror_mode": {
    "name": "ipython",
    "version": 3
   },
   "file_extension": ".py",
   "mimetype": "text/x-python",
   "name": "python",
   "nbconvert_exporter": "python",
   "pygments_lexer": "ipython3",
   "version": "3.6.10-final"
  },
  "orig_nbformat": 2,
  "kernelspec": {
   "name": "python3",
   "display_name": "Python 3.6.10 64-bit ('PythonData': conda)",
   "metadata": {
    "interpreter": {
     "hash": "0f96e07aab45cae576d6521a1e0e62efebea6b2d8358f0e2c8d98cc52c29bc77"
    }
   }
  }
 },
 "nbformat": 4,
 "nbformat_minor": 2,
 "cells": [
  {
   "cell_type": "code",
   "execution_count": 1,
   "metadata": {},
   "outputs": [
    {
     "output_type": "stream",
     "name": "stdout",
     "text": [
      "Python connected to PostgreSQL!\n"
     ]
    }
   ],
   "source": [
    "import csv\n",
    "import psycopg2\n",
    "import pandas as pd\n",
    "import pathlib\n",
    "from config import config\n",
    "import requests\n",
    "from config_api import OPEN_BREWERY_API\n",
    "from config_api import BREWERY_ONSALE_CSV_URL\n",
    "from config_api import BREWERY_OFSALE_CSV_URL\n",
    "params = config('database.ini', 'postgresql')\n",
    "con = psycopg2.connect(**params)\n",
    "print('Python connected to PostgreSQL!')"
   ]
  },
  {
   "cell_type": "code",
   "execution_count": 2,
   "metadata": {},
   "outputs": [],
   "source": [
    "# create connection cursor  \n",
    "cur = con.cursor()"
   ]
  },
  {
   "cell_type": "code",
   "execution_count": 3,
   "metadata": {},
   "outputs": [],
   "source": [
    "p = pathlib.Path(\"..\").resolve()\n",
    "#print(\"anythingiwant%s\"%p)"
   ]
  },
  {
   "cell_type": "code",
   "execution_count": 4,
   "metadata": {},
   "outputs": [],
   "source": [
    "onsaledata = requests.get(BREWERY_ONSALE_CSV_URL)\n",
    "with open(\"../resources/onsale.csv\", \"w\") as f:\n",
    "    f.write(onsaledata.text)"
   ]
  },
  {
   "cell_type": "code",
   "execution_count": 5,
   "metadata": {},
   "outputs": [],
   "source": [
    "ofsaledata = requests.get(BREWERY_OFSALE_CSV_URL)\n",
    "with open(\"../resources/ofsale.csv\", \"w\") as f:\n",
    "    f.write(ofsaledata.text)"
   ]
  },
  {
   "cell_type": "code",
   "execution_count": 6,
   "metadata": {},
   "outputs": [],
   "source": [
    "#create tables in PostGresDB\n",
    "# cur.execute(\"ROLLBACK\")\n",
    "# con.commit()\n",
    "create_params = config(config_db = 'database.ini', section_to_parse = 'create_tables')\n",
    "cur.execute(create_params[\"bikes\"])\n",
    "cur.execute(create_params[\"onsale\"])\n",
    "cur.execute(create_params[\"ofsale\"])\n",
    "con.commit()"
   ]
  },
  {
   "cell_type": "code",
   "execution_count": 7,
   "metadata": {},
   "outputs": [],
   "source": [
    "#insert data  #resources\\all_data_2020.csv\n",
    "# cur.execute(\"ROLLBACK\")\n",
    "# con.commit()\n",
    "insert_params = config(config_db = 'database.ini', section_to_parse = 'insert_data')\n",
    "cur.execute(insert_params[\"bikes\"].format(p))\n",
    "cur.execute(insert_params[\"onsale\"].format(p))\n",
    "cur.execute(insert_params[\"ofsale\"].format(p))\n",
    "con.commit()"
   ]
  },
  {
   "cell_type": "code",
   "execution_count": 8,
   "metadata": {},
   "outputs": [],
   "source": [
    "calculate_distances = config(config_db = 'database.ini', section_to_parse = 'calculate_distances')\n",
    "cur.execute(calculate_distances[\"heatmap\"])\n",
    "con.commit()"
   ]
  },
  {
   "cell_type": "code",
   "execution_count": 9,
   "metadata": {},
   "outputs": [
    {
     "output_type": "stream",
     "name": "stdout",
     "text": [
      "done\n"
     ]
    }
   ],
   "source": [
    "# Close communication with the database\n",
    "cur.close()\n",
    "con.close()\n",
    "print('done')"
   ]
  }
 ]
}