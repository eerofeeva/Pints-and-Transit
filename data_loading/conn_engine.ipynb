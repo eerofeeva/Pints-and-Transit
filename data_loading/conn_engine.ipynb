{
 "metadata": {
  "language_info": {
   "codemirror_mode": {
    "name": "ipython",
    "version": 3
   },
   "file_extension": ".py",
   "mimetype": "text/x-python",
   "name": "python",
   "nbconvert_exporter": "python",
   "pygments_lexer": "ipython3",
   "version": "3.6.10-final"
  },
  "orig_nbformat": 2,
  "kernelspec": {
   "name": "python3",
   "display_name": "Python 3.6.10 64-bit ('PythonData': conda)",
   "metadata": {
    "interpreter": {
     "hash": "0f96e07aab45cae576d6521a1e0e62efebea6b2d8358f0e2c8d98cc52c29bc77"
    }
   }
  }
 },
 "nbformat": 4,
 "nbformat_minor": 2,
 "cells": [
  {
   "cell_type": "code",
   "execution_count": 34,
   "metadata": {},
   "outputs": [
    {
     "output_type": "stream",
     "name": "stdout",
     "text": [
      "Python connected to PostgreSQL!\n"
     ]
    }
   ],
   "source": [
    "import csv\n",
    "import psycopg2\n",
    "import pandas as pd\n",
    "import pathlib\n",
    "from config import config\n",
    "params = config('database.ini', 'postgresql')\n",
    "con = psycopg2.connect(**params)\n",
    "print('Python connected to PostgreSQL!')"
   ]
  },
  {
   "cell_type": "code",
   "execution_count": 35,
   "metadata": {},
   "outputs": [],
   "source": [
    "# create connection cursor  \n",
    "cur = con.cursor()"
   ]
  },
  {
   "cell_type": "code",
   "execution_count": 36,
   "metadata": {},
   "outputs": [],
   "source": [
    "p = pathlib.Path(\"..\").resolve()\n",
    "#print(\"anythingiwant%s\"%p)"
   ]
  },
  {
   "cell_type": "code",
   "execution_count": 37,
   "metadata": {},
   "outputs": [],
   "source": [
    "#create tables in PostGresDB\n",
    "# cur.execute(\"ROLLBACK\")\n",
    "# con.commit()\n",
    "create_params = config(config_db = 'database.ini', section_to_parse = 'create_tables')\n",
    "cur.execute(create_params[\"bikes\"])\n",
    "cur.execute(create_params[\"onsale\"])\n",
    "cur.execute(create_params[\"ofsale\"])\n",
    "con.commit()"
   ]
  },
  {
   "cell_type": "code",
   "execution_count": 38,
   "metadata": {},
   "outputs": [
    {
     "output_type": "error",
     "ename": "UndefinedColumn",
     "evalue": "column \"apn\" of relation \"onsale\" does not exist\n",
     "traceback": [
      "\u001b[1;31m---------------------------------------------------------------------------\u001b[0m",
      "\u001b[1;31mUndefinedColumn\u001b[0m                           Traceback (most recent call last)",
      "\u001b[1;32m<ipython-input-38-812f43963b52>\u001b[0m in \u001b[0;36m<module>\u001b[1;34m\u001b[0m\n\u001b[0;32m      4\u001b[0m \u001b[0minsert_params\u001b[0m \u001b[1;33m=\u001b[0m \u001b[0mconfig\u001b[0m\u001b[1;33m(\u001b[0m\u001b[0mconfig_db\u001b[0m \u001b[1;33m=\u001b[0m \u001b[1;34m'database.ini'\u001b[0m\u001b[1;33m,\u001b[0m \u001b[0msection_to_parse\u001b[0m \u001b[1;33m=\u001b[0m \u001b[1;34m'insert_data'\u001b[0m\u001b[1;33m)\u001b[0m\u001b[1;33m\u001b[0m\u001b[1;33m\u001b[0m\u001b[0m\n\u001b[0;32m      5\u001b[0m \u001b[0mcur\u001b[0m\u001b[1;33m.\u001b[0m\u001b[0mexecute\u001b[0m\u001b[1;33m(\u001b[0m\u001b[0minsert_params\u001b[0m\u001b[1;33m[\u001b[0m\u001b[1;34m\"bikes\"\u001b[0m\u001b[1;33m]\u001b[0m\u001b[1;33m.\u001b[0m\u001b[0mformat\u001b[0m\u001b[1;33m(\u001b[0m\u001b[0mp\u001b[0m\u001b[1;33m)\u001b[0m\u001b[1;33m)\u001b[0m\u001b[1;33m\u001b[0m\u001b[1;33m\u001b[0m\u001b[0m\n\u001b[1;32m----> 6\u001b[1;33m \u001b[0mcur\u001b[0m\u001b[1;33m.\u001b[0m\u001b[0mexecute\u001b[0m\u001b[1;33m(\u001b[0m\u001b[0minsert_params\u001b[0m\u001b[1;33m[\u001b[0m\u001b[1;34m\"onsale\"\u001b[0m\u001b[1;33m]\u001b[0m\u001b[1;33m)\u001b[0m\u001b[1;33m\u001b[0m\u001b[1;33m\u001b[0m\u001b[0m\n\u001b[0m\u001b[0;32m      7\u001b[0m \u001b[0mcur\u001b[0m\u001b[1;33m.\u001b[0m\u001b[0mexecute\u001b[0m\u001b[1;33m(\u001b[0m\u001b[0minsert_params\u001b[0m\u001b[1;33m[\u001b[0m\u001b[1;34m\"ofsale\"\u001b[0m\u001b[1;33m]\u001b[0m\u001b[1;33m)\u001b[0m\u001b[1;33m\u001b[0m\u001b[1;33m\u001b[0m\u001b[0m\n\u001b[0;32m      8\u001b[0m \u001b[0mcon\u001b[0m\u001b[1;33m.\u001b[0m\u001b[0mcommit\u001b[0m\u001b[1;33m(\u001b[0m\u001b[1;33m)\u001b[0m\u001b[1;33m\u001b[0m\u001b[1;33m\u001b[0m\u001b[0m\n",
      "\u001b[1;31mUndefinedColumn\u001b[0m: column \"apn\" of relation \"onsale\" does not exist\n"
     ]
    }
   ],
   "source": [
    "#insert data  #resources\\all_data_2020.csv\n",
    "# cur.execute(\"ROLLBACK\")\n",
    "# con.commit()\n",
    "insert_params = config(config_db = 'database.ini', section_to_parse = 'insert_data')\n",
    "cur.execute(insert_params[\"bikes\"].format(p))\n",
    "cur.execute(insert_params[\"onsale\"])\n",
    "cur.execute(insert_params[\"ofsale\"])\n",
    "con.commit()"
   ]
  },
  {
   "cell_type": "code",
   "execution_count": 31,
   "metadata": {},
   "outputs": [],
   "source": [
    "# Close communication with the database\n",
    "cur.close()\n",
    "con.close()"
   ]
  }
 ]
}