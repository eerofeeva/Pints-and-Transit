{
 "metadata": {
  "language_info": {
   "codemirror_mode": {
    "name": "ipython",
    "version": 3
   },
   "file_extension": ".py",
   "mimetype": "text/x-python",
   "name": "python",
   "nbconvert_exporter": "python",
   "pygments_lexer": "ipython3",
   "version": "3.6.10-final"
  },
  "orig_nbformat": 2,
  "kernelspec": {
   "name": "python3",
   "display_name": "Python 3.6.10 64-bit ('PythonData': conda)",
   "metadata": {
    "interpreter": {
     "hash": "0f96e07aab45cae576d6521a1e0e62efebea6b2d8358f0e2c8d98cc52c29bc77"
    }
   }
  }
 },
 "nbformat": 4,
 "nbformat_minor": 2,
 "cells": [
  {
   "cell_type": "code",
   "execution_count": 1,
   "metadata": {},
   "outputs": [
    {
     "output_type": "error",
     "ename": "ParsingError",
     "evalue": "Source contains parsing errors: 'database.ini'\n\t[line 11]: 'CREATE TABLE bikes (\\n'\n\t[line 26]: ');\\n'\n\t[line 29]: 'CREATE TABLE ofsale\\n'\n\t[line 30]: '{\\n'\n\t[line 50]: '}\\n'\n\t[line 53]: 'CREATE TABLE onsale\\n'\n\t[line 54]: '{\\n'\n\t[line 74]: '}\\n'\n\t[line 79]: 'issueDate, lastUpdateDate, lat, licenseName, licenseNumber, licenseStatus, licenseType,\\n'\n\t[line 80]: 'liquorType, long, neighborhood, ward, xWebMercator, yWebMercator)\\n'\n\t[line 81]: \"FROM 'resources\\\\ofsale.csv'\\n\"\n\t[line 82]: \"DELIMITER ','\\n\"\n\t[line 83]: 'CSV HEADER;\\n'\n\t[line 86]: \"FROM 'resources\\\\all_data_2020.csv'\\n\"\n\t[line 87]: \"DELIMITER ','\\n\"\n\t[line 88]: 'CSV HEADER;\\n'\n\t[line 91]: 'issueDate, lastUpdateDate, lat, licenseName, licenseNumber, licenseStatus, licenseType,\\n'\n\t[line 92]: 'liquorType, long, neighborhood, ward, xWebMercator, yWebMercator)\\n'\n\t[line 93]: \"FROM 'resources\\\\ofsale.csv'\\n\"\n\t[line 94]: \"DELIMITER ','\\n\"\n\t[line 95]: 'CSV HEADER;\\n'",
     "traceback": [
      "\u001b[1;31m---------------------------------------------------------------------------\u001b[0m",
      "\u001b[1;31mParsingError\u001b[0m                              Traceback (most recent call last)",
      "\u001b[1;32m<ipython-input-1-4af1c28a0ad4>\u001b[0m in \u001b[0;36m<module>\u001b[1;34m\u001b[0m\n\u001b[0;32m      4\u001b[0m \u001b[1;32mfrom\u001b[0m \u001b[0mconfig\u001b[0m \u001b[1;32mimport\u001b[0m \u001b[0mconfig\u001b[0m\u001b[1;33m\u001b[0m\u001b[1;33m\u001b[0m\u001b[0m\n\u001b[0;32m      5\u001b[0m \u001b[1;33m\u001b[0m\u001b[0m\n\u001b[1;32m----> 6\u001b[1;33m \u001b[0mparams\u001b[0m \u001b[1;33m=\u001b[0m \u001b[0mconfig\u001b[0m\u001b[1;33m(\u001b[0m\u001b[1;34m'database.ini'\u001b[0m\u001b[1;33m,\u001b[0m \u001b[1;34m'postgresql'\u001b[0m\u001b[1;33m)\u001b[0m\u001b[1;33m\u001b[0m\u001b[1;33m\u001b[0m\u001b[0m\n\u001b[0m\u001b[0;32m      7\u001b[0m \u001b[0mcon\u001b[0m \u001b[1;33m=\u001b[0m \u001b[0mpsycopg2\u001b[0m\u001b[1;33m.\u001b[0m\u001b[0mconnect\u001b[0m\u001b[1;33m(\u001b[0m\u001b[1;33m**\u001b[0m\u001b[0mparams\u001b[0m\u001b[1;33m)\u001b[0m\u001b[1;33m\u001b[0m\u001b[1;33m\u001b[0m\u001b[0m\n\u001b[0;32m      8\u001b[0m \u001b[0mprint\u001b[0m\u001b[1;33m(\u001b[0m\u001b[1;34m'Python connected to PostgreSQL!'\u001b[0m\u001b[1;33m)\u001b[0m\u001b[1;33m\u001b[0m\u001b[1;33m\u001b[0m\u001b[0m\n",
      "\u001b[1;32mc:\\ClassRepo\\Pints-and-Transit\\data_loading\\config.py\u001b[0m in \u001b[0;36mconfig\u001b[1;34m(config_db, section_to_parse)\u001b[0m\n\u001b[0;32m     14\u001b[0m     \u001b[0mconfig_parser\u001b[0m \u001b[1;33m=\u001b[0m \u001b[0mConfigParser\u001b[0m\u001b[1;33m(\u001b[0m\u001b[1;33m)\u001b[0m\u001b[1;33m\u001b[0m\u001b[1;33m\u001b[0m\u001b[0m\n\u001b[0;32m     15\u001b[0m     \u001b[1;31m# Read the configuration file\u001b[0m\u001b[1;33m\u001b[0m\u001b[1;33m\u001b[0m\u001b[1;33m\u001b[0m\u001b[0m\n\u001b[1;32m---> 16\u001b[1;33m     \u001b[0mconfig_parser\u001b[0m\u001b[1;33m.\u001b[0m\u001b[0mread\u001b[0m\u001b[1;33m(\u001b[0m\u001b[0mconfig_file_path\u001b[0m\u001b[1;33m)\u001b[0m\u001b[1;33m\u001b[0m\u001b[1;33m\u001b[0m\u001b[0m\n\u001b[0m\u001b[0;32m     17\u001b[0m     \u001b[1;31m# If the configuration file contains the provided section name\u001b[0m\u001b[1;33m\u001b[0m\u001b[1;33m\u001b[0m\u001b[1;33m\u001b[0m\u001b[0m\n\u001b[0;32m     18\u001b[0m     \u001b[1;32mif\u001b[0m\u001b[1;33m(\u001b[0m\u001b[0mconfig_parser\u001b[0m\u001b[1;33m.\u001b[0m\u001b[0mhas_section\u001b[0m\u001b[1;33m(\u001b[0m\u001b[0msection\u001b[0m\u001b[1;33m)\u001b[0m\u001b[1;33m)\u001b[0m\u001b[1;33m:\u001b[0m\u001b[1;33m\u001b[0m\u001b[1;33m\u001b[0m\u001b[0m\n",
      "\u001b[1;32m~\\anaconda3\\envs\\PythonData\\lib\\configparser.py\u001b[0m in \u001b[0;36mread\u001b[1;34m(self, filenames, encoding)\u001b[0m\n\u001b[0;32m    695\u001b[0m             \u001b[1;32mtry\u001b[0m\u001b[1;33m:\u001b[0m\u001b[1;33m\u001b[0m\u001b[1;33m\u001b[0m\u001b[0m\n\u001b[0;32m    696\u001b[0m                 \u001b[1;32mwith\u001b[0m \u001b[0mopen\u001b[0m\u001b[1;33m(\u001b[0m\u001b[0mfilename\u001b[0m\u001b[1;33m,\u001b[0m \u001b[0mencoding\u001b[0m\u001b[1;33m=\u001b[0m\u001b[0mencoding\u001b[0m\u001b[1;33m)\u001b[0m \u001b[1;32mas\u001b[0m \u001b[0mfp\u001b[0m\u001b[1;33m:\u001b[0m\u001b[1;33m\u001b[0m\u001b[1;33m\u001b[0m\u001b[0m\n\u001b[1;32m--> 697\u001b[1;33m                     \u001b[0mself\u001b[0m\u001b[1;33m.\u001b[0m\u001b[0m_read\u001b[0m\u001b[1;33m(\u001b[0m\u001b[0mfp\u001b[0m\u001b[1;33m,\u001b[0m \u001b[0mfilename\u001b[0m\u001b[1;33m)\u001b[0m\u001b[1;33m\u001b[0m\u001b[1;33m\u001b[0m\u001b[0m\n\u001b[0m\u001b[0;32m    698\u001b[0m             \u001b[1;32mexcept\u001b[0m \u001b[0mOSError\u001b[0m\u001b[1;33m:\u001b[0m\u001b[1;33m\u001b[0m\u001b[1;33m\u001b[0m\u001b[0m\n\u001b[0;32m    699\u001b[0m                 \u001b[1;32mcontinue\u001b[0m\u001b[1;33m\u001b[0m\u001b[1;33m\u001b[0m\u001b[0m\n",
      "\u001b[1;32m~\\anaconda3\\envs\\PythonData\\lib\\configparser.py\u001b[0m in \u001b[0;36m_read\u001b[1;34m(self, fp, fpname)\u001b[0m\n\u001b[0;32m   1109\u001b[0m         \u001b[1;31m# if any parsing errors occurred, raise an exception\u001b[0m\u001b[1;33m\u001b[0m\u001b[1;33m\u001b[0m\u001b[1;33m\u001b[0m\u001b[0m\n\u001b[0;32m   1110\u001b[0m         \u001b[1;32mif\u001b[0m \u001b[0me\u001b[0m\u001b[1;33m:\u001b[0m\u001b[1;33m\u001b[0m\u001b[1;33m\u001b[0m\u001b[0m\n\u001b[1;32m-> 1111\u001b[1;33m             \u001b[1;32mraise\u001b[0m \u001b[0me\u001b[0m\u001b[1;33m\u001b[0m\u001b[1;33m\u001b[0m\u001b[0m\n\u001b[0m\u001b[0;32m   1112\u001b[0m \u001b[1;33m\u001b[0m\u001b[0m\n\u001b[0;32m   1113\u001b[0m     \u001b[1;32mdef\u001b[0m \u001b[0m_join_multiline_values\u001b[0m\u001b[1;33m(\u001b[0m\u001b[0mself\u001b[0m\u001b[1;33m)\u001b[0m\u001b[1;33m:\u001b[0m\u001b[1;33m\u001b[0m\u001b[1;33m\u001b[0m\u001b[0m\n",
      "\u001b[1;31mParsingError\u001b[0m: Source contains parsing errors: 'database.ini'\n\t[line 11]: 'CREATE TABLE bikes (\\n'\n\t[line 26]: ');\\n'\n\t[line 29]: 'CREATE TABLE ofsale\\n'\n\t[line 30]: '{\\n'\n\t[line 50]: '}\\n'\n\t[line 53]: 'CREATE TABLE onsale\\n'\n\t[line 54]: '{\\n'\n\t[line 74]: '}\\n'\n\t[line 79]: 'issueDate, lastUpdateDate, lat, licenseName, licenseNumber, licenseStatus, licenseType,\\n'\n\t[line 80]: 'liquorType, long, neighborhood, ward, xWebMercator, yWebMercator)\\n'\n\t[line 81]: \"FROM 'resources\\\\ofsale.csv'\\n\"\n\t[line 82]: \"DELIMITER ','\\n\"\n\t[line 83]: 'CSV HEADER;\\n'\n\t[line 86]: \"FROM 'resources\\\\all_data_2020.csv'\\n\"\n\t[line 87]: \"DELIMITER ','\\n\"\n\t[line 88]: 'CSV HEADER;\\n'\n\t[line 91]: 'issueDate, lastUpdateDate, lat, licenseName, licenseNumber, licenseStatus, licenseType,\\n'\n\t[line 92]: 'liquorType, long, neighborhood, ward, xWebMercator, yWebMercator)\\n'\n\t[line 93]: \"FROM 'resources\\\\ofsale.csv'\\n\"\n\t[line 94]: \"DELIMITER ','\\n\"\n\t[line 95]: 'CSV HEADER;\\n'"
     ]
    }
   ],
   "source": [
    "import csv\n",
    "import psycopg2\n",
    "import pandas as pd\n",
    "from config import config\n",
    "\n",
    "params = config('database.ini', 'postgresql')\n",
    "con = psycopg2.connect(**params)\n",
    "print('Python connected to PostgreSQL!')"
   ]
  },
  {
   "cell_type": "code",
   "execution_count": 6,
   "metadata": {},
   "outputs": [],
   "source": [
    "# create connection cursor\n",
    "cur = con.cursor()"
   ]
  },
  {
   "cell_type": "code",
   "execution_count": 7,
   "metadata": {},
   "outputs": [],
   "source": [
    "#create tables in PostGresDB\n",
    "create_params = config(config_db = 'database.ini', section_to_parse = 'create_tables')\n",
    "cur.execute(create_params[\"bikes\"])\n",
    "cur.execute(create_params[\"onsale\"])\n",
    "cur.execute(create_params[\"ofsale\"])\n",
    "con.commit()"
   ]
  },
  {
   "cell_type": "code",
   "execution_count": 8,
   "metadata": {},
   "outputs": [],
   "source": [
    "#insert data\n",
    "insert_params = config(config_db = 'database.ini', section_to_parse = 'insert_data')\n",
    "cur.execute(insert_params[\"bikes\"])\n",
    "cur.execute(insert_params[\"onsale\"])\n",
    "cur.execute(insert_params[\"ofsale\"])\n",
    "con.commit()"
   ]
  },
  {
   "cell_type": "code",
   "execution_count": 10,
   "metadata": {},
   "outputs": [],
   "source": [
    "# Close communication with the database\n",
    "cur.close()\n",
    "con.close()"
   ]
  }
 ]
}