{
 "cells": [
  {
   "cell_type": "code",
   "execution_count": 1,
   "metadata": {},
   "outputs": [],
   "source": [
    "import pandas as pd"
   ]
  },
  {
   "cell_type": "code",
   "execution_count": 4,
   "metadata": {},
   "outputs": [],
   "source": [
    "#resources\\May 26th 2020 202004-niceride-tripdata.csv\n",
    "nice_ride_data_one = \"resources\\May 26th 2020 202004-niceride-tripdata.csv\"\n",
    "nice_ride_data_two = \"resources\\June 4th 2020 202005-niceride-tripdata.csv\"\n",
    "nice_ride_data_three = \"resources\\July 5th 2020 202006-niceride-tripdata.csv\"\n",
    "nice_ride_data_four = \"resources\\Aug 11th 2020 202007-niceride-tripdata.csv\"\n",
    "nice_ride_data_five = \"resources\\Sep 4th 2020 202008-niceride-tripdata.csv\"\n",
    "nice_ride_data_six = \"resources\\Oc 13th 2020 202009-niceride-tripdata.csv\"\n",
    "nice_ride_data_seven = \"resources\\ov 4th 2020 202010-niceride-tripdata.csv\"\n",
    "nice_ride_data_eight = \"resources\\Dec 4th 2020 202011-niceride-tripdata.csv\""
   ]
  },
  {
   "cell_type": "code",
   "execution_count": 6,
   "metadata": {},
   "outputs": [
    {
     "output_type": "execute_result",
     "data": {
      "text/plain": [
       "'c:\\\\ClassRepo\\\\Pints-and-Transit\\\\static\\\\data'"
      ]
     },
     "metadata": {},
     "execution_count": 6
    }
   ],
   "source": [
    "pwd"
   ]
  },
  {
   "cell_type": "code",
   "execution_count": 5,
   "metadata": {},
   "outputs": [
    {
     "output_type": "error",
     "ename": "OSError",
     "evalue": "[Errno 22] Invalid argument: '\\resources\\\\May 26th 2020 202004-niceride-tripdata.csv'",
     "traceback": [
      "\u001b[1;31m---------------------------------------------------------------------------\u001b[0m",
      "\u001b[1;31mOSError\u001b[0m                                   Traceback (most recent call last)",
      "\u001b[1;32m<ipython-input-5-6db12d70557d>\u001b[0m in \u001b[0;36m<module>\u001b[1;34m\u001b[0m\n\u001b[1;32m----> 1\u001b[1;33m \u001b[0mdata_one\u001b[0m \u001b[1;33m=\u001b[0m \u001b[0mpd\u001b[0m\u001b[1;33m.\u001b[0m\u001b[0mread_csv\u001b[0m\u001b[1;33m(\u001b[0m\u001b[0mnice_ride_data_one\u001b[0m\u001b[1;33m,\u001b[0m \u001b[0mencoding\u001b[0m\u001b[1;33m=\u001b[0m\u001b[1;34m\"utf-8\"\u001b[0m\u001b[1;33m)\u001b[0m\u001b[1;33m\u001b[0m\u001b[1;33m\u001b[0m\u001b[0m\n\u001b[0m\u001b[0;32m      2\u001b[0m \u001b[0mdata_two\u001b[0m \u001b[1;33m=\u001b[0m \u001b[0mpd\u001b[0m\u001b[1;33m.\u001b[0m\u001b[0mread_csv\u001b[0m\u001b[1;33m(\u001b[0m\u001b[0mnice_ride_data_two\u001b[0m\u001b[1;33m,\u001b[0m \u001b[0mencoding\u001b[0m\u001b[1;33m=\u001b[0m\u001b[1;34m\"utf-8\"\u001b[0m\u001b[1;33m)\u001b[0m\u001b[1;33m\u001b[0m\u001b[1;33m\u001b[0m\u001b[0m\n\u001b[0;32m      3\u001b[0m \u001b[0mdata_three\u001b[0m \u001b[1;33m=\u001b[0m \u001b[0mpd\u001b[0m\u001b[1;33m.\u001b[0m\u001b[0mread_csv\u001b[0m\u001b[1;33m(\u001b[0m\u001b[0mnice_ride_data_three\u001b[0m\u001b[1;33m,\u001b[0m \u001b[0mencoding\u001b[0m\u001b[1;33m=\u001b[0m\u001b[1;34m\"utf-8\"\u001b[0m\u001b[1;33m)\u001b[0m\u001b[1;33m\u001b[0m\u001b[1;33m\u001b[0m\u001b[0m\n\u001b[0;32m      4\u001b[0m \u001b[0mdata_four\u001b[0m \u001b[1;33m=\u001b[0m \u001b[0mpd\u001b[0m\u001b[1;33m.\u001b[0m\u001b[0mread_csv\u001b[0m\u001b[1;33m(\u001b[0m\u001b[0mnice_ride_data_four\u001b[0m\u001b[1;33m,\u001b[0m \u001b[0mencoding\u001b[0m\u001b[1;33m=\u001b[0m\u001b[1;34m\"utf-8\"\u001b[0m\u001b[1;33m)\u001b[0m\u001b[1;33m\u001b[0m\u001b[1;33m\u001b[0m\u001b[0m\n\u001b[0;32m      5\u001b[0m \u001b[0mdata_five\u001b[0m \u001b[1;33m=\u001b[0m \u001b[0mpd\u001b[0m\u001b[1;33m.\u001b[0m\u001b[0mread_csv\u001b[0m\u001b[1;33m(\u001b[0m\u001b[0mnice_ride_data_five\u001b[0m\u001b[1;33m,\u001b[0m \u001b[0mencoding\u001b[0m\u001b[1;33m=\u001b[0m\u001b[1;34m\"utf-8\"\u001b[0m\u001b[1;33m)\u001b[0m\u001b[1;33m\u001b[0m\u001b[1;33m\u001b[0m\u001b[0m\n",
      "\u001b[1;32m~\\anaconda3\\lib\\site-packages\\pandas\\io\\parsers.py\u001b[0m in \u001b[0;36mparser_f\u001b[1;34m(filepath_or_buffer, sep, delimiter, header, names, index_col, usecols, squeeze, prefix, mangle_dupe_cols, dtype, engine, converters, true_values, false_values, skipinitialspace, skiprows, skipfooter, nrows, na_values, keep_default_na, na_filter, verbose, skip_blank_lines, parse_dates, infer_datetime_format, keep_date_col, date_parser, dayfirst, cache_dates, iterator, chunksize, compression, thousands, decimal, lineterminator, quotechar, quoting, doublequote, escapechar, comment, encoding, dialect, error_bad_lines, warn_bad_lines, delim_whitespace, low_memory, memory_map, float_precision)\u001b[0m\n\u001b[0;32m    674\u001b[0m         )\n\u001b[0;32m    675\u001b[0m \u001b[1;33m\u001b[0m\u001b[0m\n\u001b[1;32m--> 676\u001b[1;33m         \u001b[1;32mreturn\u001b[0m \u001b[0m_read\u001b[0m\u001b[1;33m(\u001b[0m\u001b[0mfilepath_or_buffer\u001b[0m\u001b[1;33m,\u001b[0m \u001b[0mkwds\u001b[0m\u001b[1;33m)\u001b[0m\u001b[1;33m\u001b[0m\u001b[1;33m\u001b[0m\u001b[0m\n\u001b[0m\u001b[0;32m    677\u001b[0m \u001b[1;33m\u001b[0m\u001b[0m\n\u001b[0;32m    678\u001b[0m     \u001b[0mparser_f\u001b[0m\u001b[1;33m.\u001b[0m\u001b[0m__name__\u001b[0m \u001b[1;33m=\u001b[0m \u001b[0mname\u001b[0m\u001b[1;33m\u001b[0m\u001b[1;33m\u001b[0m\u001b[0m\n",
      "\u001b[1;32m~\\anaconda3\\lib\\site-packages\\pandas\\io\\parsers.py\u001b[0m in \u001b[0;36m_read\u001b[1;34m(filepath_or_buffer, kwds)\u001b[0m\n\u001b[0;32m    446\u001b[0m \u001b[1;33m\u001b[0m\u001b[0m\n\u001b[0;32m    447\u001b[0m     \u001b[1;31m# Create the parser.\u001b[0m\u001b[1;33m\u001b[0m\u001b[1;33m\u001b[0m\u001b[1;33m\u001b[0m\u001b[0m\n\u001b[1;32m--> 448\u001b[1;33m     \u001b[0mparser\u001b[0m \u001b[1;33m=\u001b[0m \u001b[0mTextFileReader\u001b[0m\u001b[1;33m(\u001b[0m\u001b[0mfp_or_buf\u001b[0m\u001b[1;33m,\u001b[0m \u001b[1;33m**\u001b[0m\u001b[0mkwds\u001b[0m\u001b[1;33m)\u001b[0m\u001b[1;33m\u001b[0m\u001b[1;33m\u001b[0m\u001b[0m\n\u001b[0m\u001b[0;32m    449\u001b[0m \u001b[1;33m\u001b[0m\u001b[0m\n\u001b[0;32m    450\u001b[0m     \u001b[1;32mif\u001b[0m \u001b[0mchunksize\u001b[0m \u001b[1;32mor\u001b[0m \u001b[0miterator\u001b[0m\u001b[1;33m:\u001b[0m\u001b[1;33m\u001b[0m\u001b[1;33m\u001b[0m\u001b[0m\n",
      "\u001b[1;32m~\\anaconda3\\lib\\site-packages\\pandas\\io\\parsers.py\u001b[0m in \u001b[0;36m__init__\u001b[1;34m(self, f, engine, **kwds)\u001b[0m\n\u001b[0;32m    878\u001b[0m             \u001b[0mself\u001b[0m\u001b[1;33m.\u001b[0m\u001b[0moptions\u001b[0m\u001b[1;33m[\u001b[0m\u001b[1;34m\"has_index_names\"\u001b[0m\u001b[1;33m]\u001b[0m \u001b[1;33m=\u001b[0m \u001b[0mkwds\u001b[0m\u001b[1;33m[\u001b[0m\u001b[1;34m\"has_index_names\"\u001b[0m\u001b[1;33m]\u001b[0m\u001b[1;33m\u001b[0m\u001b[1;33m\u001b[0m\u001b[0m\n\u001b[0;32m    879\u001b[0m \u001b[1;33m\u001b[0m\u001b[0m\n\u001b[1;32m--> 880\u001b[1;33m         \u001b[0mself\u001b[0m\u001b[1;33m.\u001b[0m\u001b[0m_make_engine\u001b[0m\u001b[1;33m(\u001b[0m\u001b[0mself\u001b[0m\u001b[1;33m.\u001b[0m\u001b[0mengine\u001b[0m\u001b[1;33m)\u001b[0m\u001b[1;33m\u001b[0m\u001b[1;33m\u001b[0m\u001b[0m\n\u001b[0m\u001b[0;32m    881\u001b[0m \u001b[1;33m\u001b[0m\u001b[0m\n\u001b[0;32m    882\u001b[0m     \u001b[1;32mdef\u001b[0m \u001b[0mclose\u001b[0m\u001b[1;33m(\u001b[0m\u001b[0mself\u001b[0m\u001b[1;33m)\u001b[0m\u001b[1;33m:\u001b[0m\u001b[1;33m\u001b[0m\u001b[1;33m\u001b[0m\u001b[0m\n",
      "\u001b[1;32m~\\anaconda3\\lib\\site-packages\\pandas\\io\\parsers.py\u001b[0m in \u001b[0;36m_make_engine\u001b[1;34m(self, engine)\u001b[0m\n\u001b[0;32m   1112\u001b[0m     \u001b[1;32mdef\u001b[0m \u001b[0m_make_engine\u001b[0m\u001b[1;33m(\u001b[0m\u001b[0mself\u001b[0m\u001b[1;33m,\u001b[0m \u001b[0mengine\u001b[0m\u001b[1;33m=\u001b[0m\u001b[1;34m\"c\"\u001b[0m\u001b[1;33m)\u001b[0m\u001b[1;33m:\u001b[0m\u001b[1;33m\u001b[0m\u001b[1;33m\u001b[0m\u001b[0m\n\u001b[0;32m   1113\u001b[0m         \u001b[1;32mif\u001b[0m \u001b[0mengine\u001b[0m \u001b[1;33m==\u001b[0m \u001b[1;34m\"c\"\u001b[0m\u001b[1;33m:\u001b[0m\u001b[1;33m\u001b[0m\u001b[1;33m\u001b[0m\u001b[0m\n\u001b[1;32m-> 1114\u001b[1;33m             \u001b[0mself\u001b[0m\u001b[1;33m.\u001b[0m\u001b[0m_engine\u001b[0m \u001b[1;33m=\u001b[0m \u001b[0mCParserWrapper\u001b[0m\u001b[1;33m(\u001b[0m\u001b[0mself\u001b[0m\u001b[1;33m.\u001b[0m\u001b[0mf\u001b[0m\u001b[1;33m,\u001b[0m \u001b[1;33m**\u001b[0m\u001b[0mself\u001b[0m\u001b[1;33m.\u001b[0m\u001b[0moptions\u001b[0m\u001b[1;33m)\u001b[0m\u001b[1;33m\u001b[0m\u001b[1;33m\u001b[0m\u001b[0m\n\u001b[0m\u001b[0;32m   1115\u001b[0m         \u001b[1;32melse\u001b[0m\u001b[1;33m:\u001b[0m\u001b[1;33m\u001b[0m\u001b[1;33m\u001b[0m\u001b[0m\n\u001b[0;32m   1116\u001b[0m             \u001b[1;32mif\u001b[0m \u001b[0mengine\u001b[0m \u001b[1;33m==\u001b[0m \u001b[1;34m\"python\"\u001b[0m\u001b[1;33m:\u001b[0m\u001b[1;33m\u001b[0m\u001b[1;33m\u001b[0m\u001b[0m\n",
      "\u001b[1;32m~\\anaconda3\\lib\\site-packages\\pandas\\io\\parsers.py\u001b[0m in \u001b[0;36m__init__\u001b[1;34m(self, src, **kwds)\u001b[0m\n\u001b[0;32m   1872\u001b[0m         \u001b[1;32mif\u001b[0m \u001b[0mkwds\u001b[0m\u001b[1;33m.\u001b[0m\u001b[0mget\u001b[0m\u001b[1;33m(\u001b[0m\u001b[1;34m\"compression\"\u001b[0m\u001b[1;33m)\u001b[0m \u001b[1;32mis\u001b[0m \u001b[1;32mNone\u001b[0m \u001b[1;32mand\u001b[0m \u001b[0mencoding\u001b[0m\u001b[1;33m:\u001b[0m\u001b[1;33m\u001b[0m\u001b[1;33m\u001b[0m\u001b[0m\n\u001b[0;32m   1873\u001b[0m             \u001b[1;32mif\u001b[0m \u001b[0misinstance\u001b[0m\u001b[1;33m(\u001b[0m\u001b[0msrc\u001b[0m\u001b[1;33m,\u001b[0m \u001b[0mstr\u001b[0m\u001b[1;33m)\u001b[0m\u001b[1;33m:\u001b[0m\u001b[1;33m\u001b[0m\u001b[1;33m\u001b[0m\u001b[0m\n\u001b[1;32m-> 1874\u001b[1;33m                 \u001b[0msrc\u001b[0m \u001b[1;33m=\u001b[0m \u001b[0mopen\u001b[0m\u001b[1;33m(\u001b[0m\u001b[0msrc\u001b[0m\u001b[1;33m,\u001b[0m \u001b[1;34m\"rb\"\u001b[0m\u001b[1;33m)\u001b[0m\u001b[1;33m\u001b[0m\u001b[1;33m\u001b[0m\u001b[0m\n\u001b[0m\u001b[0;32m   1875\u001b[0m                 \u001b[0mself\u001b[0m\u001b[1;33m.\u001b[0m\u001b[0mhandles\u001b[0m\u001b[1;33m.\u001b[0m\u001b[0mappend\u001b[0m\u001b[1;33m(\u001b[0m\u001b[0msrc\u001b[0m\u001b[1;33m)\u001b[0m\u001b[1;33m\u001b[0m\u001b[1;33m\u001b[0m\u001b[0m\n\u001b[0;32m   1876\u001b[0m \u001b[1;33m\u001b[0m\u001b[0m\n",
      "\u001b[1;31mOSError\u001b[0m: [Errno 22] Invalid argument: '\\resources\\\\May 26th 2020 202004-niceride-tripdata.csv'"
     ]
    }
   ],
   "source": [
    "data_one = pd.read_csv(nice_ride_data_one, encoding=\"utf-8\")\n",
    "data_two = pd.read_csv(nice_ride_data_two, encoding=\"utf-8\")\n",
    "data_three = pd.read_csv(nice_ride_data_three, encoding=\"utf-8\")\n",
    "data_four = pd.read_csv(nice_ride_data_four, encoding=\"utf-8\")\n",
    "data_five = pd.read_csv(nice_ride_data_five, encoding=\"utf-8\")\n",
    "data_six = pd.read_csv(nice_ride_data_six, encoding=\"utf-8\")\n",
    "data_seven = pd.read_csv(nice_ride_data_seven, encoding=\"utf-8\")\n",
    "data_eight = pd.read_csv(nice_ride_data_eight, encoding=\"utf-8\")"
   ]
  },
  {
   "cell_type": "code",
   "execution_count": 8,
   "metadata": {},
   "outputs": [
    {
     "data": {
      "text/plain": [
       "ride_id               13279\n",
       "rideable_type         13279\n",
       "started_at            13279\n",
       "ended_at              13279\n",
       "start_station_name    13279\n",
       "start_station_id      13279\n",
       "end_station_name      13279\n",
       "end_station_id        13279\n",
       "start_lat             13279\n",
       "start_lng             13279\n",
       "end_lat               13279\n",
       "end_lng               13279\n",
       "member_casual         13279\n",
       "dtype: int64"
      ]
     },
     "execution_count": 8,
     "metadata": {},
     "output_type": "execute_result"
    }
   ],
   "source": [
    "#Clean data - get rid of incomplete entries (most incompletes are missing endpoint)\n",
    "data_one.count()\n",
    "data_one_df = data_one.dropna(how='any')\n",
    "data_one_df.count()\n"
   ]
  },
  {
   "cell_type": "code",
   "execution_count": 9,
   "metadata": {},
   "outputs": [
    {
     "data": {
      "text/plain": [
       "ride_id               25521\n",
       "rideable_type         25521\n",
       "started_at            25521\n",
       "ended_at              25521\n",
       "start_station_name    25521\n",
       "start_station_id      25521\n",
       "end_station_name      25521\n",
       "end_station_id        25521\n",
       "start_lat             25521\n",
       "start_lng             25521\n",
       "end_lat               25521\n",
       "end_lng               25521\n",
       "member_casual         25521\n",
       "dtype: int64"
      ]
     },
     "execution_count": 9,
     "metadata": {},
     "output_type": "execute_result"
    }
   ],
   "source": [
    "data_two.count()\n",
    "data_two_df = data_two.dropna(how='any')\n",
    "data_two_df.count()"
   ]
  },
  {
   "cell_type": "code",
   "execution_count": 10,
   "metadata": {},
   "outputs": [
    {
     "data": {
      "text/plain": [
       "ride_id               25521\n",
       "rideable_type         25521\n",
       "started_at            25521\n",
       "ended_at              25521\n",
       "start_station_name    25521\n",
       "start_station_id      25521\n",
       "end_station_name      25521\n",
       "end_station_id        25521\n",
       "start_lat             25521\n",
       "start_lng             25521\n",
       "end_lat               25521\n",
       "end_lng               25521\n",
       "member_casual         25521\n",
       "dtype: int64"
      ]
     },
     "execution_count": 10,
     "metadata": {},
     "output_type": "execute_result"
    }
   ],
   "source": [
    "data_three.count()\n",
    "data_three_df = data_two.dropna(how='any')\n",
    "data_three_df.count()"
   ]
  },
  {
   "cell_type": "code",
   "execution_count": 11,
   "metadata": {},
   "outputs": [
    {
     "data": {
      "text/plain": [
       "ride_id               33703\n",
       "rideable_type         33703\n",
       "started_at            33703\n",
       "ended_at              33703\n",
       "start_station_name    33703\n",
       "start_station_id      33703\n",
       "end_station_name      33703\n",
       "end_station_id        33703\n",
       "start_lat             33703\n",
       "start_lng             33703\n",
       "end_lat               33703\n",
       "end_lng               33703\n",
       "member_casual         33703\n",
       "dtype: int64"
      ]
     },
     "execution_count": 11,
     "metadata": {},
     "output_type": "execute_result"
    }
   ],
   "source": [
    "data_four.count()\n",
    "data_four_df=data_four.dropna(how='any')\n",
    "data_four_df.count()"
   ]
  },
  {
   "cell_type": "code",
   "execution_count": 12,
   "metadata": {},
   "outputs": [
    {
     "data": {
      "text/plain": [
       "ride_id               28578\n",
       "rideable_type         28578\n",
       "started_at            28578\n",
       "ended_at              28578\n",
       "start_station_name    28578\n",
       "start_station_id      28578\n",
       "end_station_name      28578\n",
       "end_station_id        28578\n",
       "start_lat             28578\n",
       "start_lng             28578\n",
       "end_lat               28578\n",
       "end_lng               28578\n",
       "member_casual         28578\n",
       "dtype: int64"
      ]
     },
     "execution_count": 12,
     "metadata": {},
     "output_type": "execute_result"
    }
   ],
   "source": [
    "data_five.count()\n",
    "data_five_df=data_five.dropna(how='any')\n",
    "data_five_df.count()"
   ]
  },
  {
   "cell_type": "code",
   "execution_count": 13,
   "metadata": {},
   "outputs": [
    {
     "data": {
      "text/plain": [
       "ride_id               19047\n",
       "rideable_type         19047\n",
       "started_at            19047\n",
       "ended_at              19047\n",
       "start_station_name    19047\n",
       "start_station_id      19047\n",
       "end_station_name      19047\n",
       "end_station_id        19047\n",
       "start_lat             19047\n",
       "start_lng             19047\n",
       "end_lat               19047\n",
       "end_lng               19047\n",
       "member_casual         19047\n",
       "dtype: int64"
      ]
     },
     "execution_count": 13,
     "metadata": {},
     "output_type": "execute_result"
    }
   ],
   "source": [
    "data_six.count()\n",
    "data_six_df=data_six.dropna(how='any')\n",
    "data_six_df.count()"
   ]
  },
  {
   "cell_type": "code",
   "execution_count": 14,
   "metadata": {},
   "outputs": [
    {
     "data": {
      "text/plain": [
       "ride_id               10229\n",
       "rideable_type         10229\n",
       "started_at            10229\n",
       "ended_at              10229\n",
       "start_station_name    10229\n",
       "start_station_id      10229\n",
       "end_station_name      10229\n",
       "end_station_id        10229\n",
       "start_lat             10229\n",
       "start_lng             10229\n",
       "end_lat               10229\n",
       "end_lng               10229\n",
       "member_casual         10229\n",
       "dtype: int64"
      ]
     },
     "execution_count": 14,
     "metadata": {},
     "output_type": "execute_result"
    }
   ],
   "source": [
    "data_seven.count()\n",
    "data_seven_df=data_seven.dropna(how='any')\n",
    "data_seven_df.count()"
   ]
  },
  {
   "cell_type": "code",
   "execution_count": 15,
   "metadata": {},
   "outputs": [
    {
     "data": {
      "text/plain": [
       "ride_id               1100\n",
       "rideable_type         1100\n",
       "started_at            1100\n",
       "ended_at              1100\n",
       "start_station_name    1100\n",
       "start_station_id      1100\n",
       "end_station_name      1100\n",
       "end_station_id        1100\n",
       "start_lat             1100\n",
       "start_lng             1100\n",
       "end_lat               1100\n",
       "end_lng               1100\n",
       "member_casual         1100\n",
       "dtype: int64"
      ]
     },
     "execution_count": 15,
     "metadata": {},
     "output_type": "execute_result"
    }
   ],
   "source": [
    "data_eight.count()\n",
    "data_eight_df=data_eight.dropna(how='any')\n",
    "data_eight_df.count()"
   ]
  },
  {
   "cell_type": "code",
   "execution_count": 16,
   "metadata": {},
   "outputs": [
    {
     "data": {
      "text/html": [
       "<div>\n",
       "<style scoped>\n",
       "    .dataframe tbody tr th:only-of-type {\n",
       "        vertical-align: middle;\n",
       "    }\n",
       "\n",
       "    .dataframe tbody tr th {\n",
       "        vertical-align: top;\n",
       "    }\n",
       "\n",
       "    .dataframe thead th {\n",
       "        text-align: right;\n",
       "    }\n",
       "</style>\n",
       "<table border=\"1\" class=\"dataframe\">\n",
       "  <thead>\n",
       "    <tr style=\"text-align: right;\">\n",
       "      <th></th>\n",
       "      <th>ride_id</th>\n",
       "      <th>rideable_type</th>\n",
       "      <th>started_at</th>\n",
       "      <th>ended_at</th>\n",
       "      <th>start_station_name</th>\n",
       "      <th>start_station_id</th>\n",
       "      <th>end_station_name</th>\n",
       "      <th>end_station_id</th>\n",
       "      <th>start_lat</th>\n",
       "      <th>start_lng</th>\n",
       "      <th>end_lat</th>\n",
       "      <th>end_lng</th>\n",
       "      <th>member_casual</th>\n",
       "    </tr>\n",
       "  </thead>\n",
       "  <tbody>\n",
       "    <tr>\n",
       "      <th>0</th>\n",
       "      <td>15D6114DEE7104D3</td>\n",
       "      <td>classic_bike</td>\n",
       "      <td>2020-11-04 16:38:49</td>\n",
       "      <td>2020-11-04 17:35:55</td>\n",
       "      <td>Coldwater Spring</td>\n",
       "      <td>155.0</td>\n",
       "      <td>Coldwater Spring</td>\n",
       "      <td>155.0</td>\n",
       "      <td>44.905043</td>\n",
       "      <td>-93.198283</td>\n",
       "      <td>44.905043</td>\n",
       "      <td>-93.198283</td>\n",
       "      <td>casual</td>\n",
       "    </tr>\n",
       "    <tr>\n",
       "      <th>9</th>\n",
       "      <td>23BEE93F624D88AE</td>\n",
       "      <td>electric_bike</td>\n",
       "      <td>2020-11-02 16:11:07</td>\n",
       "      <td>2020-11-02 16:18:58</td>\n",
       "      <td>MCAD</td>\n",
       "      <td>20.0</td>\n",
       "      <td>Dupont Ave S &amp; W 29th Street</td>\n",
       "      <td>162.0</td>\n",
       "      <td>44.957132</td>\n",
       "      <td>-93.274944</td>\n",
       "      <td>44.949884</td>\n",
       "      <td>-93.293125</td>\n",
       "      <td>casual</td>\n",
       "    </tr>\n",
       "    <tr>\n",
       "      <th>10</th>\n",
       "      <td>C96CC9CC6FE240A1</td>\n",
       "      <td>classic_bike</td>\n",
       "      <td>2020-11-01 12:57:15</td>\n",
       "      <td>2020-11-01 14:05:37</td>\n",
       "      <td>Boom Island Park</td>\n",
       "      <td>153.0</td>\n",
       "      <td>Boom Island Park</td>\n",
       "      <td>153.0</td>\n",
       "      <td>44.992540</td>\n",
       "      <td>-93.270256</td>\n",
       "      <td>44.992540</td>\n",
       "      <td>-93.270256</td>\n",
       "      <td>casual</td>\n",
       "    </tr>\n",
       "    <tr>\n",
       "      <th>16</th>\n",
       "      <td>903EA724EB83C3C2</td>\n",
       "      <td>electric_bike</td>\n",
       "      <td>2020-11-04 18:20:29</td>\n",
       "      <td>2020-11-04 18:42:40</td>\n",
       "      <td>6th Ave SE &amp; University Ave</td>\n",
       "      <td>89.0</td>\n",
       "      <td>2nd Ave N &amp; Washington Ave N</td>\n",
       "      <td>23.0</td>\n",
       "      <td>44.983427</td>\n",
       "      <td>-93.248138</td>\n",
       "      <td>44.983883</td>\n",
       "      <td>-93.271176</td>\n",
       "      <td>casual</td>\n",
       "    </tr>\n",
       "    <tr>\n",
       "      <th>17</th>\n",
       "      <td>758A084AAB974399</td>\n",
       "      <td>classic_bike</td>\n",
       "      <td>2020-11-03 15:06:04</td>\n",
       "      <td>2020-11-03 18:15:15</td>\n",
       "      <td>Coffman Union</td>\n",
       "      <td>26.0</td>\n",
       "      <td>Washington Ave SE &amp; Union Street SE</td>\n",
       "      <td>116.0</td>\n",
       "      <td>44.973378</td>\n",
       "      <td>-93.234762</td>\n",
       "      <td>44.973940</td>\n",
       "      <td>-93.232100</td>\n",
       "      <td>casual</td>\n",
       "    </tr>\n",
       "  </tbody>\n",
       "</table>\n",
       "</div>"
      ],
      "text/plain": [
       "             ride_id  rideable_type           started_at             ended_at  \\\n",
       "0   15D6114DEE7104D3   classic_bike  2020-11-04 16:38:49  2020-11-04 17:35:55   \n",
       "9   23BEE93F624D88AE  electric_bike  2020-11-02 16:11:07  2020-11-02 16:18:58   \n",
       "10  C96CC9CC6FE240A1   classic_bike  2020-11-01 12:57:15  2020-11-01 14:05:37   \n",
       "16  903EA724EB83C3C2  electric_bike  2020-11-04 18:20:29  2020-11-04 18:42:40   \n",
       "17  758A084AAB974399   classic_bike  2020-11-03 15:06:04  2020-11-03 18:15:15   \n",
       "\n",
       "             start_station_name  start_station_id  \\\n",
       "0              Coldwater Spring             155.0   \n",
       "9                          MCAD              20.0   \n",
       "10             Boom Island Park             153.0   \n",
       "16  6th Ave SE & University Ave              89.0   \n",
       "17                Coffman Union              26.0   \n",
       "\n",
       "                       end_station_name  end_station_id  start_lat  start_lng  \\\n",
       "0                      Coldwater Spring           155.0  44.905043 -93.198283   \n",
       "9          Dupont Ave S & W 29th Street           162.0  44.957132 -93.274944   \n",
       "10                     Boom Island Park           153.0  44.992540 -93.270256   \n",
       "16         2nd Ave N & Washington Ave N            23.0  44.983427 -93.248138   \n",
       "17  Washington Ave SE & Union Street SE           116.0  44.973378 -93.234762   \n",
       "\n",
       "      end_lat    end_lng member_casual  \n",
       "0   44.905043 -93.198283        casual  \n",
       "9   44.949884 -93.293125        casual  \n",
       "10  44.992540 -93.270256        casual  \n",
       "16  44.983883 -93.271176        casual  \n",
       "17  44.973940 -93.232100        casual  "
      ]
     },
     "execution_count": 16,
     "metadata": {},
     "output_type": "execute_result"
    }
   ],
   "source": [
    "data_eight_df.head()"
   ]
  },
  {
   "cell_type": "code",
   "execution_count": 17,
   "metadata": {},
   "outputs": [],
   "source": [
    "combined_df = pd.concat([data_one_df,data_two_df, data_three_df, data_four_df, data_five_df, data_six_df, data_seven_df, data_eight_df], ignore_index=True, sort=False)\n",
    "\n",
    "                   "
   ]
  },
  {
   "cell_type": "code",
   "execution_count": 18,
   "metadata": {},
   "outputs": [
    {
     "data": {
      "text/plain": [
       "ride_id               156978\n",
       "rideable_type         156978\n",
       "started_at            156978\n",
       "ended_at              156978\n",
       "start_station_name    156978\n",
       "start_station_id      156978\n",
       "end_station_name      156978\n",
       "end_station_id        156978\n",
       "start_lat             156978\n",
       "start_lng             156978\n",
       "end_lat               156978\n",
       "end_lng               156978\n",
       "member_casual         156978\n",
       "dtype: int64"
      ]
     },
     "execution_count": 18,
     "metadata": {},
     "output_type": "execute_result"
    }
   ],
   "source": [
    "combined_df.count()"
   ]
  },
  {
   "cell_type": "code",
   "execution_count": 19,
   "metadata": {},
   "outputs": [
    {
     "data": {
      "text/plain": [
       "131457"
      ]
     },
     "execution_count": 19,
     "metadata": {},
     "output_type": "execute_result"
    }
   ],
   "source": [
    "ride_count = combined_df[\"ride_id\"].unique()\n",
    "len(ride_count)"
   ]
  },
  {
   "cell_type": "code",
   "execution_count": 20,
   "metadata": {},
   "outputs": [
    {
     "data": {
      "text/plain": [
       "ride_id               25521\n",
       "rideable_type         25521\n",
       "started_at            25521\n",
       "ended_at              25521\n",
       "start_station_name    25521\n",
       "start_station_id      25521\n",
       "end_station_name      25521\n",
       "end_station_id        25521\n",
       "start_lat             25521\n",
       "start_lng             25521\n",
       "end_lat               25521\n",
       "end_lng               25521\n",
       "member_casual         25521\n",
       "dtype: int64"
      ]
     },
     "execution_count": 20,
     "metadata": {},
     "output_type": "execute_result"
    }
   ],
   "source": [
    "duplicate_ride_id = combined_df[combined_df.duplicated(['ride_id'])]\n",
    "duplicate_ride_id.count()"
   ]
  },
  {
   "cell_type": "code",
   "execution_count": 21,
   "metadata": {},
   "outputs": [
    {
     "data": {
      "text/plain": [
       "ride_id               131457\n",
       "rideable_type         131457\n",
       "started_at            131457\n",
       "ended_at              131457\n",
       "start_station_name    131457\n",
       "start_station_id      131457\n",
       "end_station_name      131457\n",
       "end_station_id        131457\n",
       "start_lat             131457\n",
       "start_lng             131457\n",
       "end_lat               131457\n",
       "end_lng               131457\n",
       "member_casual         131457\n",
       "dtype: int64"
      ]
     },
     "execution_count": 21,
     "metadata": {},
     "output_type": "execute_result"
    }
   ],
   "source": [
    "final_df = combined_df.drop_duplicates(['ride_id'],keep='last')\n",
    "final_df.count()"
   ]
  },
  {
   "cell_type": "code",
   "execution_count": 22,
   "metadata": {},
   "outputs": [
    {
     "data": {
      "text/plain": [
       "131457"
      ]
     },
     "execution_count": 22,
     "metadata": {},
     "output_type": "execute_result"
    }
   ],
   "source": [
    "ride_count2 = final_df['ride_id'].unique()\n",
    "len(ride_count2)"
   ]
  },
  {
   "cell_type": "code",
   "execution_count": 23,
   "metadata": {},
   "outputs": [],
   "source": [
    "# final_df.to_csv(\"Resources/all_data_2020.csv\", index=False, header=True)"
   ]
  },
  {
   "cell_type": "code",
   "execution_count": null,
   "metadata": {},
   "outputs": [],
   "source": []
  }
 ],
 "metadata": {
  "kernelspec": {
   "name": "python3",
   "display_name": "Python 3.8.3 64-bit (conda)",
   "metadata": {
    "interpreter": {
     "hash": "023074e976cad0ad34e8a77176b5016719baa6298d2202c0e3913f950a4162bd"
    }
   }
  },
  "language_info": {
   "codemirror_mode": {
    "name": "ipython",
    "version": 3
   },
   "file_extension": ".py",
   "mimetype": "text/x-python",
   "name": "python",
   "nbconvert_exporter": "python",
   "pygments_lexer": "ipython3",
   "version": "3.8.3-final"
  }
 },
 "nbformat": 4,
 "nbformat_minor": 4
}