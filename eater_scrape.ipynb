{
 "cells": [
  {
   "cell_type": "code",
   "execution_count": 3,
   "metadata": {},
   "outputs": [],
   "source": [
    "from bs4 import BeautifulSoup as bs\n",
    "import time\n",
    "import requests\n",
    "from splinter import Browser\n",
    "import pandas as pd\n",
    "import warnings\n",
    "\n",
    "warnings.filterwarnings('ignore')"
   ]
  },
  {
   "cell_type": "code",
   "execution_count": 4,
   "metadata": {},
   "outputs": [],
   "source": [
    "### Eater\n",
    "url = 'https://twincities.eater.com/'"
   ]
  },
  {
   "cell_type": "code",
   "execution_count": 5,
   "metadata": {},
   "outputs": [],
   "source": [
    "executable_path = {'executable_path': 'c:/bin/chromedriver'}\n",
    "browser = Browser('chrome', **executable_path, headless=False)"
   ]
  },
  {
   "cell_type": "code",
   "execution_count": 6,
   "metadata": {},
   "outputs": [],
   "source": [
    "browser.visit(url)\n",
    "html = browser.html\n",
    "soup = bs(html, 'html.parser')"
   ]
  },
  {
   "cell_type": "code",
   "execution_count": 18,
   "metadata": {},
   "outputs": [],
   "source": [
    "# print(soup.prettify())"
   ]
  },
  {
   "cell_type": "code",
   "execution_count": 15,
   "metadata": {},
   "outputs": [],
   "source": [
    "titles = soup.find_all(\"h2\", class_=\"c-entry-box--compact__title\")"
   ]
  },
  {
   "cell_type": "code",
   "execution_count": 60,
   "metadata": {},
   "outputs": [],
   "source": [
    "matches = [\"Beer\", \"Brewery\", \"Breweries\", \"Wine\", \"Winery\", \"Wineries\", \"Growler\", \"Growlers\", \"Cocktail\", \"Cocktails\", \"Alcohol\", \"Bike\", \"Bikes\", \"Cycle\", \"Cyclist\", \"Cyclists\", \"Alcohol\", \"Liquor\", \"Bar\", \"Bars\"]"
   ]
  },
  {
   "cell_type": "code",
   "execution_count": 71,
   "metadata": {},
   "outputs": [],
   "source": [
    "x = 0\n",
    "\n",
    "title_string = titles[x].string\n",
    "\n",
    "article_titles = []\n",
    "links = []\n",
    "\n",
    "for title in titles:\n",
    "    if any(y in title_string for y in matches):\n",
    "        article_titles.append(titles[x].string)\n",
    "        links.append(titles[x].find('a').get('href'))\n",
    "        x = x + 1\n",
    "    else:\n",
    "        x = x + 1\n"
   ]
  },
  {
   "cell_type": "code",
   "execution_count": 72,
   "metadata": {},
   "outputs": [
    {
     "name": "stdout",
     "output_type": "stream",
     "text": [
      "Detroit-Style Pizza Sensation Expands to Prospect Park This Spring\n",
      "False\n",
      "['Twin Cities Restaurants Band Together to Push for Legalized Cocktail Sales', 'Detroit-Style Pizza Sensation Expands to Prospect Park This Spring', 'Newly Formed Alliance of Minnesota Breweries Fights for the Right to Sell Growlers', 'Where to Order a Romantic Date Night Meal To Go in the Twin Cities', 'Minnesota Legislators Need to Pass Cocktails To-Go Now', 'Take a Flavor Vacation with Take Out From the Worldly Vendors at Midtown Global Market', 'Hamline-Midway’s Vegan Grocer Hosts a Pop-Up to Benefit Indigenous Foodways', 'Winter Demands Creative Good Times When You’re Living Through a Pandemic in Minnesota', 'Target Center’s Restaurant Has Closed', 'The Twin Cities Most Anticipated New Restaurants, 2021', 'How I Found Empowerment in the History of Black Veganism', 'Gavin Kaysen’s Reopening of Demi Marks a Small Return for Minneapolis Fine Dining', 'Want to Write for Eater Twin Cities?', 'The 38 Twin Cities Restaurants That Capture the Taste of the Cities, Winter 2021', 'A Handful of Twin Cities Restaurants Remain Temporarily Closed While Others Return to In-Person Dining', '13 Exciting New Restaurants in Minneapolis and St. Paul Right Now, January 2021', 'The Vox guide to Covid-19 coronavirus', 'Dining at Bars and Restaurants Returns to Minnesota on January 11', 'Ann Kim’s Korean-Mexican Restaurant Is Now Serving Curbside Feasts', '17 Exceptional Coffee Shops in Minneapolis and St. Paul', 'The Saddest Twin Cities Restaurant Closures of 2020', 'Looking Back at the Stories That Grabbed Our Attention in an Unpredictable Year', 'Tracking the Twin Cities Restaurant Closures of 2020', '7 Twin Cities Chinese Food Restaurants That Go Beyond the Sweet and Sour', 'How the Coronavirus Has Impacted the Twin Cities Food World', '22 Winter Patios Open in Minneapolis and St. Paul', '10 Incredible Wine Lists to Take Advantage of in Minneapolis and St. Paul', 'Minnesota Restaurants Allowed to Resume Outdoor Dining Just in Time for Deep Winter', \"Where to Eat In Saint Paul's West Seventh Neighborhood\", '87 Year-Old Italian Eatery’s Facebook Post Goes Viral After Asking Fans to Support Its Neighbors', 'Minnesota Lawmakers Pass Relief Bill with $216 Million Targeted at Hospitality Businesses', 'Four Must-Try New Burgers Vying for a Burger Town’s Adoration', '10 Fantastic Choices for Budget-Friendly Dining in St. Paul', 'Bartender Builds Astounding Lego Models of Iconic Minneapolis Bars', 'Where to Order an Excellent Lunch in St. Paul ', 'Jamie Malone’s Award-Winning Grand Cafe Will Not Return']\n"
     ]
    }
   ],
   "source": [
    "print(titles[1].string)\n",
    "results = any(y in titles[1].string for y in matches)\n",
    "print(results)\n",
    "\n",
    "print(article_titles)\n"
   ]
  },
  {
   "cell_type": "code",
   "execution_count": 37,
   "metadata": {},
   "outputs": [
    {
     "name": "stdout",
     "output_type": "stream",
     "text": [
      "['Twin Cities Restaurants Band Together to Push for Legalized Cocktail Sales', 'Detroit-Style Pizza Sensation Expands to Prospect Park This Spring', 'Newly Formed Alliance of Minnesota Breweries Fights for the Right to Sell Growlers', 'Where to Order a Romantic Date Night Meal To Go in the Twin Cities', 'Minnesota Legislators Need to Pass Cocktails To-Go Now', 'Take a Flavor Vacation with Take Out From the Worldly Vendors at Midtown Global Market', 'Hamline-Midway’s Vegan Grocer Hosts a Pop-Up to Benefit Indigenous Foodways', 'Winter Demands Creative Good Times When You’re Living Through a Pandemic in Minnesota', 'Target Center’s Restaurant Has Closed', 'The Twin Cities Most Anticipated New Restaurants, 2021', 'How I Found Empowerment in the History of Black Veganism', 'Gavin Kaysen’s Reopening of Demi Marks a Small Return for Minneapolis Fine Dining', 'Want to Write for Eater Twin Cities?', 'The 38 Twin Cities Restaurants That Capture the Taste of the Cities, Winter 2021', 'A Handful of Twin Cities Restaurants Remain Temporarily Closed While Others Return to In-Person Dining', '13 Exciting New Restaurants in Minneapolis and St. Paul Right Now, January 2021', 'The Vox guide to Covid-19 coronavirus', 'Dining at Bars and Restaurants Returns to Minnesota on January 11', 'Ann Kim’s Korean-Mexican Restaurant Is Now Serving Curbside Feasts', '17 Exceptional Coffee Shops in Minneapolis and St. Paul', 'The Saddest Twin Cities Restaurant Closures of 2020', 'Looking Back at the Stories That Grabbed Our Attention in an Unpredictable Year', 'Tracking the Twin Cities Restaurant Closures of 2020', '7 Twin Cities Chinese Food Restaurants That Go Beyond the Sweet and Sour', 'How the Coronavirus Has Impacted the Twin Cities Food World', '22 Winter Patios Open in Minneapolis and St. Paul', '10 Incredible Wine Lists to Take Advantage of in Minneapolis and St. Paul', 'Minnesota Restaurants Allowed to Resume Outdoor Dining Just in Time for Deep Winter', \"Where to Eat In Saint Paul's West Seventh Neighborhood\", '87 Year-Old Italian Eatery’s Facebook Post Goes Viral After Asking Fans to Support Its Neighbors', 'Minnesota Lawmakers Pass Relief Bill with $216 Million Targeted at Hospitality Businesses', 'Four Must-Try New Burgers Vying for a Burger Town’s Adoration', '10 Fantastic Choices for Budget-Friendly Dining in St. Paul', 'Bartender Builds Astounding Lego Models of Iconic Minneapolis Bars', 'Where to Order an Excellent Lunch in St. Paul ', 'Jamie Malone’s Award-Winning Grand Cafe Will Not Return']\n",
      "['https://twincities.eater.com/2021/2/1/22260641/legalzie-cocktails-to-go-sales-delivery-restaurants-minnesota-minneapolis-st-paul', 'https://twincities.eater.com/2021/2/1/22260137/wrecktangle-pizza-viva-cubano-sooki-mimi-pajarito-lucky-13-minneapolis-st-paul', 'https://twincities.eater.com/2021/1/28/22250680/growler-cap-crowler-on-site-sales-craft-brewers-alliance', 'https://twincities.eater.com/2020/5/7/21250581/best-date-romantic-dinners-restaurants-delivery-take-out-minneapolis-st-paul', 'https://twincities.eater.com/2021/1/5/22214969/op-ed-to-go-cocktails-minnesota-legalized-covid-bars', 'https://twincities.eater.com/maps/where-to-eat-inside-midtown-global-market-minneapolis-food-hall', 'https://twincities.eater.com/2021/1/25/22241183/eureka-compass-vegan-pop-up-dinner-natifs-sean-sherman-decolonized-food', 'https://twincities.eater.com/2021/1/21/22231715/fun-stuff-to-do-outside-minneapolis-st-paul-restaurants-bars', 'https://twincities.eater.com/2021/1/20/22240939/target-center-restaurants-bus-stop-burgers-cargo-food-authority-closed', 'https://twincities.eater.com/2021/1/19/22238466/most-anticipated-new-restaurants-minneapolis-st-paul-spring-summer', 'https://www.eater.com/22229322/black-veganism-history-black-panthers-dick-gregory-nation-of-islam-alvenia-fulton', 'https://twincities.eater.com/2021/1/14/22230990/gavin-kaysen-demi-fine-dining-restaurant-open-reservations', 'https://twincities.eater.com/2021/1/14/22230901/hiring-jobs-food-restaurant-writing-eater-twin-cities', 'https://twincities.eater.com/maps/best-restaurants-minneapolis-st-paul-38-map', 'https://twincities.eater.com/2021/1/6/22216785/minneapolis-restaurants-temporary-closed-hibernate-winter', 'https://twincities.eater.com/maps/best-new-restaurants-minneapolis-saint-paul-heatmap', 'https://adclick.g.doubleclick.net/pcs/click?xai=AKAOjssKRLb851a8YObAVJVgWaOLKZUNuTI76Wfa5GY5zw7EZxQWZStYtDdweIw6LexyhNEqMrqKRpspS-fWuHa-YLqgb6oo-7v44NBMheAOQc0v0qe02NSgui-RmKPLABX1drZuF5ZI9lem4ueUBEr7H2Fq8Faf0gyQOQmrV_q5dhcv0YaQyfM4vqoMtlPknHaC4jGwfpXm2Aiq7J5kL8H3-AbAEzwlCRSk0igrzXCXyzkPC9iANvXEEdIIXebZEGUxc5PfxzPDcsS45Jekx3TZr205Npeo-ckGoG5MihGVkvZC2kQ_YUIlIrILMe64zLjhai7lWIzcMyB8oLVtBPg&sai=AMfl-YS9HMB5hYEvXUV1e9fCRWc9DWh07XFnzzjaky-dgSfM75zjwZG6cSX069KkGe813R22uIjzOVc7O9gX8XfJ1-42QIXbzL_LeO6SVQ_iOVtGfvL3n0DgRMJIbzrAWKSj&sig=Cg0ArKJSzMMdsktz_W4hEAE&urlfix=1&adurl=https://www.vox.com/coronavirus-covid19%3Futm_source%3Dvm_housead%26utm_medium%3Dvm_housead%26utm_campaign%3Dvm_coronavirus_native', 'https://twincities.eater.com/2021/1/7/22218492/bars-restaurants-reopen-resume-dining-indoors-minnesota-minneapolis-st-paul', 'https://twincities.eater.com/2021/1/4/22212946/sooki-mimi-ann-kim-boludo-cafe-ceres-graze-grand-sandwich-open-minneapolis-st-paul', 'https://twincities.eater.com/maps/best-coffee-shop-minneapolis-st-paul-twin-cities', 'https://twincities.eater.com/2020/12/30/22206497/twin-cities-restaurant-closed-forever-2020-minneapolis-st-paul', 'https://twincities.eater.com/2020/12/29/22203363/minneapolis-st-paul-restaurant-openings-closures-riots-best-stories-2020', 'https://twincities.eater.com/2020/3/2/21152801/twin-cities-minneapolis-st-paul-restaurant-closed-2020', 'https://twincities.eater.com/maps/best-chinese-restaurants-food-dim-sum-noodles-minneapolis-st-paul-twin-cities', 'https://twincities.eater.com/2020/3/18/21185520/impactcorona-virus-minneapolis-st-paul-restaurant-bars-news', 'https://twincities.eater.com/maps/winter-patios-open-minneapolis-st-paul-twin-cities', 'https://twincities.eater.com/2020/12/18/22188689/best-wine-list-to-go-takeout-restaurants-minneapolis-st-paul', 'https://twincities.eater.com/2020/12/17/22180319/minnesota-restaurants-reopen-patios-outdoor-dining-restrictions-winter', 'https://twincities.eater.com/maps/best-bar-restaurant-west-7th-seventh-st-paul', 'https://twincities.eater.com/2020/12/15/22176652/degidios-west-seventh-take-out-weekdays-saint-paul', 'https://twincities.eater.com/2020/12/14/22174217/minnesota-restaurants-unemployed-workers-state-relief-plan', 'https://twincities.eater.com/22165413/best-new-burgers-minneapolis-st-paul', 'https://twincities.eater.com/maps/best-cheap-eats-affordable-restaurants-saint-paul', 'https://twincities.eater.com/2020/12/3/22150956/bartender-artist-lego-models-minneapolis-dive-bars-restaurants', 'https://twincities.eater.com/maps/best-lunch-saint-paul-minnesota', 'https://twincities.eater.com/2020/11/30/21726669/grand-cafe-jamie-malone-moves-closed-minneapolis-kingfield']\n"
     ]
    }
   ],
   "source": [
    "print(article_titles)\n",
    "print(links)"
   ]
  },
  {
   "cell_type": "code",
   "execution_count": 7,
   "metadata": {},
   "outputs": [
    {
     "name": "stdout",
     "output_type": "stream",
     "text": [
      "During this next phase, the program will mature critical technologies and make critical design decisions as well as assess industry partnerships.\n"
     ]
    }
   ],
   "source": [
    "news_p = blurb.find(\"div\", class_='rollover_description_inner').get_text()\n",
    "print(news_p)"
   ]
  },
  {
   "cell_type": "code",
   "execution_count": 8,
   "metadata": {},
   "outputs": [],
   "source": [
    "### JPL Mars Space Images - Featured Image\n",
    "# time.sleep(2)\n",
    "# url2 = 'https://www.jpl.nasa.gov/spaceimages/?search=&category=Mars'\n",
    "# browser.visit(url2)"
   ]
  },
  {
   "cell_type": "code",
   "execution_count": 9,
   "metadata": {},
   "outputs": [
    {
     "name": "stderr",
     "output_type": "stream",
     "text": [
      "C:\\Users\\kylie\\anaconda3\\envs\\PythonData\\lib\\site-packages\\splinter\\driver\\webdriver\\__init__.py:485: FutureWarning: browser.find_link_by_partial_href is deprecated. Use browser.links.find_by_partial_href instead.\n",
      "  FutureWarning,\n"
     ]
    },
    {
     "name": "stdout",
     "output_type": "stream",
     "text": [
      "/spaceimages/images/largesize/PIA07137_hires.jpg\n"
     ]
    }
   ],
   "source": [
    "# browser.click_link_by_id('full_image')\n",
    "# browser.click_link_by_partial_href('/spaceimages/details')\n",
    "\n",
    "# html = browser.html\n",
    "# soup = bs(html, 'html.parser')\n",
    "\n",
    "# lede = soup.find('figure', class_='lede')\n",
    "# link = lede.find('a')\n",
    "# href = link['href']\n",
    "\n",
    "# print(href)"
   ]
  },
  {
   "cell_type": "code",
   "execution_count": 10,
   "metadata": {},
   "outputs": [
    {
     "name": "stdout",
     "output_type": "stream",
     "text": [
      "https://www.jpl.nasa.gov/spaceimages/images/largesize/PIA07137_hires.jpg\n"
     ]
    }
   ],
   "source": [
    "# features_image_url = 'https://www.jpl.nasa.gov' + href\n",
    "# print(features_image_url)"
   ]
  },
  {
   "cell_type": "code",
   "execution_count": 11,
   "metadata": {},
   "outputs": [],
   "source": [
    "### Mars Facts\n",
    "# time.sleep(2)\n",
    "# url3 = 'https://space-facts.com/mars/'\n",
    "# browser.visit(url3)"
   ]
  },
  {
   "cell_type": "code",
   "execution_count": 12,
   "metadata": {},
   "outputs": [],
   "source": [
    "# tables = pd.read_html(url3)"
   ]
  },
  {
   "cell_type": "code",
   "execution_count": 13,
   "metadata": {},
   "outputs": [
    {
     "data": {
      "text/html": [
       "<div>\n",
       "<style scoped>\n",
       "    .dataframe tbody tr th:only-of-type {\n",
       "        vertical-align: middle;\n",
       "    }\n",
       "\n",
       "    .dataframe tbody tr th {\n",
       "        vertical-align: top;\n",
       "    }\n",
       "\n",
       "    .dataframe thead th {\n",
       "        text-align: right;\n",
       "    }\n",
       "</style>\n",
       "<table border=\"1\" class=\"dataframe\">\n",
       "  <thead>\n",
       "    <tr style=\"text-align: right;\">\n",
       "      <th></th>\n",
       "      <th>Mars Facts</th>\n",
       "      <th></th>\n",
       "    </tr>\n",
       "  </thead>\n",
       "  <tbody>\n",
       "    <tr>\n",
       "      <th>0</th>\n",
       "      <td>Equatorial Diameter:</td>\n",
       "      <td>6,792 km</td>\n",
       "    </tr>\n",
       "    <tr>\n",
       "      <th>1</th>\n",
       "      <td>Polar Diameter:</td>\n",
       "      <td>6,752 km</td>\n",
       "    </tr>\n",
       "    <tr>\n",
       "      <th>2</th>\n",
       "      <td>Mass:</td>\n",
       "      <td>6.39 × 10^23 kg (0.11 Earths)</td>\n",
       "    </tr>\n",
       "    <tr>\n",
       "      <th>3</th>\n",
       "      <td>Moons:</td>\n",
       "      <td>2 (Phobos &amp; Deimos)</td>\n",
       "    </tr>\n",
       "    <tr>\n",
       "      <th>4</th>\n",
       "      <td>Orbit Distance:</td>\n",
       "      <td>227,943,824 km (1.38 AU)</td>\n",
       "    </tr>\n",
       "    <tr>\n",
       "      <th>5</th>\n",
       "      <td>Orbit Period:</td>\n",
       "      <td>687 days (1.9 years)</td>\n",
       "    </tr>\n",
       "    <tr>\n",
       "      <th>6</th>\n",
       "      <td>Surface Temperature:</td>\n",
       "      <td>-87 to -5 °C</td>\n",
       "    </tr>\n",
       "    <tr>\n",
       "      <th>7</th>\n",
       "      <td>First Record:</td>\n",
       "      <td>2nd millennium BC</td>\n",
       "    </tr>\n",
       "    <tr>\n",
       "      <th>8</th>\n",
       "      <td>Recorded By:</td>\n",
       "      <td>Egyptian astronomers</td>\n",
       "    </tr>\n",
       "  </tbody>\n",
       "</table>\n",
       "</div>"
      ],
      "text/plain": [
       "             Mars Facts                               \n",
       "0  Equatorial Diameter:                       6,792 km\n",
       "1       Polar Diameter:                       6,752 km\n",
       "2                 Mass:  6.39 × 10^23 kg (0.11 Earths)\n",
       "3                Moons:            2 (Phobos & Deimos)\n",
       "4       Orbit Distance:       227,943,824 km (1.38 AU)\n",
       "5         Orbit Period:           687 days (1.9 years)\n",
       "6  Surface Temperature:                   -87 to -5 °C\n",
       "7         First Record:              2nd millennium BC\n",
       "8          Recorded By:           Egyptian astronomers"
      ]
     },
     "execution_count": 13,
     "metadata": {},
     "output_type": "execute_result"
    }
   ],
   "source": [
    "# type(tables)\n",
    "# df = tables[0]\n",
    "# df.columns = ['Mars Facts', '']\n",
    "# df"
   ]
  },
  {
   "cell_type": "code",
   "execution_count": 14,
   "metadata": {},
   "outputs": [
    {
     "data": {
      "text/html": [
       "<div>\n",
       "<style scoped>\n",
       "    .dataframe tbody tr th:only-of-type {\n",
       "        vertical-align: middle;\n",
       "    }\n",
       "\n",
       "    .dataframe tbody tr th {\n",
       "        vertical-align: top;\n",
       "    }\n",
       "\n",
       "    .dataframe thead th {\n",
       "        text-align: right;\n",
       "    }\n",
       "</style>\n",
       "<table border=\"1\" class=\"dataframe\">\n",
       "  <thead>\n",
       "    <tr style=\"text-align: right;\">\n",
       "      <th></th>\n",
       "      <th></th>\n",
       "    </tr>\n",
       "    <tr>\n",
       "      <th>Mars Facts</th>\n",
       "      <th></th>\n",
       "    </tr>\n",
       "  </thead>\n",
       "  <tbody>\n",
       "    <tr>\n",
       "      <th>Equatorial Diameter:</th>\n",
       "      <td>6,792 km</td>\n",
       "    </tr>\n",
       "    <tr>\n",
       "      <th>Polar Diameter:</th>\n",
       "      <td>6,752 km</td>\n",
       "    </tr>\n",
       "    <tr>\n",
       "      <th>Mass:</th>\n",
       "      <td>6.39 × 10^23 kg (0.11 Earths)</td>\n",
       "    </tr>\n",
       "    <tr>\n",
       "      <th>Moons:</th>\n",
       "      <td>2 (Phobos &amp; Deimos)</td>\n",
       "    </tr>\n",
       "    <tr>\n",
       "      <th>Orbit Distance:</th>\n",
       "      <td>227,943,824 km (1.38 AU)</td>\n",
       "    </tr>\n",
       "    <tr>\n",
       "      <th>Orbit Period:</th>\n",
       "      <td>687 days (1.9 years)</td>\n",
       "    </tr>\n",
       "    <tr>\n",
       "      <th>Surface Temperature:</th>\n",
       "      <td>-87 to -5 °C</td>\n",
       "    </tr>\n",
       "    <tr>\n",
       "      <th>First Record:</th>\n",
       "      <td>2nd millennium BC</td>\n",
       "    </tr>\n",
       "    <tr>\n",
       "      <th>Recorded By:</th>\n",
       "      <td>Egyptian astronomers</td>\n",
       "    </tr>\n",
       "  </tbody>\n",
       "</table>\n",
       "</div>"
      ],
      "text/plain": [
       "                                                   \n",
       "Mars Facts                                         \n",
       "Equatorial Diameter:                       6,792 km\n",
       "Polar Diameter:                            6,752 km\n",
       "Mass:                 6.39 × 10^23 kg (0.11 Earths)\n",
       "Moons:                          2 (Phobos & Deimos)\n",
       "Orbit Distance:            227,943,824 km (1.38 AU)\n",
       "Orbit Period:                  687 days (1.9 years)\n",
       "Surface Temperature:                   -87 to -5 °C\n",
       "First Record:                     2nd millennium BC\n",
       "Recorded By:                   Egyptian astronomers"
      ]
     },
     "execution_count": 14,
     "metadata": {},
     "output_type": "execute_result"
    }
   ],
   "source": [
    "# df.set_index('Mars Facts', inplace=True)\n",
    "# df"
   ]
  },
  {
   "cell_type": "code",
   "execution_count": 15,
   "metadata": {},
   "outputs": [
    {
     "data": {
      "text/plain": [
       "'<table border=\"1\" class=\"dataframe\">  <thead>    <tr style=\"text-align: right;\">      <th></th>      <th></th>    </tr>    <tr>      <th>Mars Facts</th>      <th></th>    </tr>  </thead>  <tbody>    <tr>      <th>Equatorial Diameter:</th>      <td>6,792 km</td>    </tr>    <tr>      <th>Polar Diameter:</th>      <td>6,752 km</td>    </tr>    <tr>      <th>Mass:</th>      <td>6.39 × 10^23 kg (0.11 Earths)</td>    </tr>    <tr>      <th>Moons:</th>      <td>2 (Phobos &amp; Deimos)</td>    </tr>    <tr>      <th>Orbit Distance:</th>      <td>227,943,824 km (1.38 AU)</td>    </tr>    <tr>      <th>Orbit Period:</th>      <td>687 days (1.9 years)</td>    </tr>    <tr>      <th>Surface Temperature:</th>      <td>-87 to -5 °C</td>    </tr>    <tr>      <th>First Record:</th>      <td>2nd millennium BC</td>    </tr>    <tr>      <th>Recorded By:</th>      <td>Egyptian astronomers</td>    </tr>  </tbody></table>'"
      ]
     },
     "execution_count": 15,
     "metadata": {},
     "output_type": "execute_result"
    }
   ],
   "source": [
    "# html_table = df.to_html()\n",
    "# html_table = html_table.replace('\\n', '')\n",
    "# html_table"
   ]
  },
  {
   "cell_type": "code",
   "execution_count": 16,
   "metadata": {},
   "outputs": [],
   "source": [
    "### Mars Hemispheres\n",
    "# time.sleep(2)\n",
    "# url4 = 'https://astrogeology.usgs.gov/search/results?q=hemisphere+enhanced&k1=target&v1=Mars'\n",
    "# browser.visit(url4)"
   ]
  },
  {
   "cell_type": "code",
   "execution_count": 17,
   "metadata": {},
   "outputs": [
    {
     "name": "stdout",
     "output_type": "stream",
     "text": [
      "[{'title': 'Cerberus Hemisphere', 'img_url': 'https://astropedia.astrogeology.usgs.gov/download/Mars/Viking/cerberus_enhanced.tif/full.jpg'}, {'title': 'Schiaparelli Hemisphere', 'img_url': 'https://astropedia.astrogeology.usgs.gov/download/Mars/Viking/cerberus_enhanced.tif/full.jpg'}, {'title': 'Syrtis Major Hemisphere', 'img_url': 'https://astropedia.astrogeology.usgs.gov/download/Mars/Viking/cerberus_enhanced.tif/full.jpg'}, {'title': 'Valles Marineris Hemisphere', 'img_url': 'https://astropedia.astrogeology.usgs.gov/download/Mars/Viking/cerberus_enhanced.tif/full.jpg'}]\n"
     ]
    }
   ],
   "source": [
    "# <img class=\"wide-image\" src=\"/cache/images/f5e372a36edfa389625da6d0cc25d905_cerberus_enhanced.tif_full.jpg\">\n",
    "\n",
    "# html = browser.html\n",
    "# soup = bs(html, 'html.parser')\n",
    "\n",
    "# dict_list = []\n",
    "\n",
    "# items = soup.find_all('div', class_='item')\n",
    "\n",
    "# for item in items:\n",
    "#     h3 = item.find('h3').get_text()\n",
    "#     h3 = h3.replace(' Enhanced','')\n",
    "#     dict = {\"title\": h3}\n",
    "\n",
    "#     browser.find_by_tag('h3').click()\n",
    "#     browser.find_by_id('wide-image')\n",
    "\n",
    "#     html = browser.html\n",
    "#     soup = bs(html, 'html.parser')\n",
    "\n",
    "#     downloads = soup.find('div', class_='downloads')\n",
    "#     li = downloads.find('li')\n",
    "#     link1 = li.find('a')\n",
    "#     href1 = link1['href']\n",
    "    \n",
    "#     dict.update({\"img_url\": href1})\n",
    "#     dict_list.append(dict)\n",
    "    \n",
    "#     browser.visit(url4)\n",
    "    \n",
    "    \n",
    "# print(dict_list)\n",
    "# browser.quit()"
   ]
  }
 ],
 "metadata": {
  "kernelspec": {
   "display_name": "Python 3",
   "language": "python",
   "name": "python3"
  },
  "language_info": {
   "codemirror_mode": {
    "name": "ipython",
    "version": 3
   },
   "file_extension": ".py",
   "mimetype": "text/x-python",
   "name": "python",
   "nbconvert_exporter": "python",
   "pygments_lexer": "ipython3",
   "version": "3.6.10"
  },
  "varInspector": {
   "cols": {
    "lenName": 16,
    "lenType": 16,
    "lenVar": 40
   },
   "kernels_config": {
    "python": {
     "delete_cmd_postfix": "",
     "delete_cmd_prefix": "del ",
     "library": "var_list.py",
     "varRefreshCmd": "print(var_dic_list())"
    },
    "r": {
     "delete_cmd_postfix": ") ",
     "delete_cmd_prefix": "rm(",
     "library": "var_list.r",
     "varRefreshCmd": "cat(var_dic_list()) "
    }
   },
   "types_to_exclude": [
    "module",
    "function",
    "builtin_function_or_method",
    "instance",
    "_Feature"
   ],
   "window_display": false
  }
 },
 "nbformat": 4,
 "nbformat_minor": 2
}
