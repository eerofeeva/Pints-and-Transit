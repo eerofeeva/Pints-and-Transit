{
 "cells": [
  {
   "cell_type": "code",
   "execution_count": null,
   "metadata": {},
   "outputs": [],
   "source": [
    "import pandas as pd"
   ]
  },
  {
   "cell_type": "code",
   "execution_count": 10,
   "metadata": {},
   "outputs": [],
   "source": [
    "nice_ride_data_one = \"resources\\May 26th 2020 202004-niceride-tripdata.csv\"\n",
    "nice_ride_data_two = \"resources\\June 4th 2020 202005-niceride-tripdata.csv\"\n",
    "nice_ride_data_three = \"resources\\July 5th 2020 202006-niceride-tripdata.csv\"\n",
    "nice_ride_data_four = \"resources\\Aug 11th 2020 202007-niceride-tripdata.csv\"\n",
    "nice_ride_data_five = \"resources\\Sep 4th 2020 202008-niceride-tripdata.csv\"\n",
    "nice_ride_data_six = \"resources\\Oc 13th 2020 202009-niceride-tripdata.csv\"\n",
    "nice_ride_data_seven = \"resources\\ov 4th 2020 202010-niceride-tripdata.csv\"\n",
    "nice_ride_data_eight = \"resources\\Dec 4th 2020 202011-niceride-tripdata.csv\""
   ]
  },
  {
   "cell_type": "code",
   "execution_count": 11,
   "metadata": {},
   "outputs": [],
   "source": [
    "data_one = pd.read_csv(nice_ride_data_one, encoding=\"utf-8\")\n",
    "data_two = pd.read_csv(nice_ride_data_two, encoding=\"utf-8\")\n",
    "data_three = pd.read_csv(nice_ride_data_three, encoding=\"utf-8\")\n",
    "data_four = pd.read_csv(nice_ride_data_four, encoding=\"utf-8\")\n",
    "data_five = pd.read_csv(nice_ride_data_five, encoding=\"utf-8\")\n",
    "data_six = pd.read_csv(nice_ride_data_six, encoding=\"utf-8\")\n",
    "data_seven = pd.read_csv(nice_ride_data_seven, encoding=\"utf-8\")\n",
    "data_eight = pd.read_csv(nice_ride_data_eight, encoding=\"utf-8\")"
   ]
  },
  {
   "cell_type": "code",
   "execution_count": 40,
   "metadata": {},
   "outputs": [
    {
     "data": {
      "text/plain": [
       "ride_id               13279\n",
       "rideable_type         13279\n",
       "started_at            13279\n",
       "ended_at              13279\n",
       "start_station_name    13279\n",
       "start_station_id      13279\n",
       "end_station_name      13279\n",
       "end_station_id        13279\n",
       "start_lat             13279\n",
       "start_lng             13279\n",
       "end_lat               13279\n",
       "end_lng               13279\n",
       "member_casual         13279\n",
       "dtype: int64"
      ]
     },
     "execution_count": 40,
     "metadata": {},
     "output_type": "execute_result"
    }
   ],
   "source": [
    "#Clean data - get rid of incomplete entries (most incompletes are missing endpoint)\n",
    "data_one.count()\n",
    "data_one_df = data_one.dropna(how='any')\n",
    "data_one_df.count()\n"
   ]
  },
  {
   "cell_type": "code",
   "execution_count": 41,
   "metadata": {},
   "outputs": [
    {
     "data": {
      "text/plain": [
       "ride_id               25521\n",
       "rideable_type         25521\n",
       "started_at            25521\n",
       "ended_at              25521\n",
       "start_station_name    25521\n",
       "start_station_id      25521\n",
       "end_station_name      25521\n",
       "end_station_id        25521\n",
       "start_lat             25521\n",
       "start_lng             25521\n",
       "end_lat               25521\n",
       "end_lng               25521\n",
       "member_casual         25521\n",
       "dtype: int64"
      ]
     },
     "execution_count": 41,
     "metadata": {},
     "output_type": "execute_result"
    }
   ],
   "source": [
    "data_two.count()\n",
    "data_two_df = data_two.dropna(how='any')\n",
    "data_two_df.count()"
   ]
  },
  {
   "cell_type": "code",
   "execution_count": 46,
   "metadata": {},
   "outputs": [
    {
     "data": {
      "text/plain": [
       "ride_id               25521\n",
       "rideable_type         25521\n",
       "started_at            25521\n",
       "ended_at              25521\n",
       "start_station_name    25521\n",
       "start_station_id      25521\n",
       "end_station_name      25521\n",
       "end_station_id        25521\n",
       "start_lat             25521\n",
       "start_lng             25521\n",
       "end_lat               25521\n",
       "end_lng               25521\n",
       "member_casual         25521\n",
       "dtype: int64"
      ]
     },
     "execution_count": 46,
     "metadata": {},
     "output_type": "execute_result"
    }
   ],
   "source": [
    "data_three.count()\n",
    "data_three_df = data_two.dropna(how='any')\n",
    "data_three_df.count()"
   ]
  },
  {
   "cell_type": "code",
   "execution_count": 49,
   "metadata": {},
   "outputs": [
    {
     "data": {
      "text/plain": [
       "ride_id               33703\n",
       "rideable_type         33703\n",
       "started_at            33703\n",
       "ended_at              33703\n",
       "start_station_name    33703\n",
       "start_station_id      33703\n",
       "end_station_name      33703\n",
       "end_station_id        33703\n",
       "start_lat             33703\n",
       "start_lng             33703\n",
       "end_lat               33703\n",
       "end_lng               33703\n",
       "member_casual         33703\n",
       "dtype: int64"
      ]
     },
     "execution_count": 49,
     "metadata": {},
     "output_type": "execute_result"
    }
   ],
   "source": [
    "data_four.count()\n",
    "data_four_df=data_four.dropna(how='any')\n",
    "data_four_df.count()"
   ]
  },
  {
   "cell_type": "code",
   "execution_count": 51,
   "metadata": {},
   "outputs": [
    {
     "data": {
      "text/plain": [
       "ride_id               28578\n",
       "rideable_type         28578\n",
       "started_at            28578\n",
       "ended_at              28578\n",
       "start_station_name    28578\n",
       "start_station_id      28578\n",
       "end_station_name      28578\n",
       "end_station_id        28578\n",
       "start_lat             28578\n",
       "start_lng             28578\n",
       "end_lat               28578\n",
       "end_lng               28578\n",
       "member_casual         28578\n",
       "dtype: int64"
      ]
     },
     "execution_count": 51,
     "metadata": {},
     "output_type": "execute_result"
    }
   ],
   "source": [
    "data_five.count()\n",
    "data_five_df=data_five.dropna(how='any')\n",
    "data_five_df.count()"
   ]
  },
  {
   "cell_type": "code",
   "execution_count": 53,
   "metadata": {},
   "outputs": [
    {
     "data": {
      "text/plain": [
       "ride_id               19047\n",
       "rideable_type         19047\n",
       "started_at            19047\n",
       "ended_at              19047\n",
       "start_station_name    19047\n",
       "start_station_id      19047\n",
       "end_station_name      19047\n",
       "end_station_id        19047\n",
       "start_lat             19047\n",
       "start_lng             19047\n",
       "end_lat               19047\n",
       "end_lng               19047\n",
       "member_casual         19047\n",
       "dtype: int64"
      ]
     },
     "execution_count": 53,
     "metadata": {},
     "output_type": "execute_result"
    }
   ],
   "source": [
    "data_six.count()\n",
    "data_six_df=data_six.dropna(how='any')\n",
    "data_six_df.count()"
   ]
  },
  {
   "cell_type": "code",
   "execution_count": 58,
   "metadata": {},
   "outputs": [
    {
     "data": {
      "text/plain": [
       "ride_id               10229\n",
       "rideable_type         10229\n",
       "started_at            10229\n",
       "ended_at              10229\n",
       "start_station_name    10229\n",
       "start_station_id      10229\n",
       "end_station_name      10229\n",
       "end_station_id        10229\n",
       "start_lat             10229\n",
       "start_lng             10229\n",
       "end_lat               10229\n",
       "end_lng               10229\n",
       "member_casual         10229\n",
       "dtype: int64"
      ]
     },
     "execution_count": 58,
     "metadata": {},
     "output_type": "execute_result"
    }
   ],
   "source": [
    "data_seven.count()\n",
    "data_seven_df=data_seven.dropna(how='any')\n",
    "data_seven_df.count()"
   ]
  },
  {
   "cell_type": "code",
   "execution_count": 60,
   "metadata": {},
   "outputs": [
    {
     "data": {
      "text/plain": [
       "ride_id               1100\n",
       "rideable_type         1100\n",
       "started_at            1100\n",
       "ended_at              1100\n",
       "start_station_name    1100\n",
       "start_station_id      1100\n",
       "end_station_name      1100\n",
       "end_station_id        1100\n",
       "start_lat             1100\n",
       "start_lng             1100\n",
       "end_lat               1100\n",
       "end_lng               1100\n",
       "member_casual         1100\n",
       "dtype: int64"
      ]
     },
     "execution_count": 60,
     "metadata": {},
     "output_type": "execute_result"
    }
   ],
   "source": [
    "data_eight.count()\n",
    "data_eight_df=data_eight.dropna(how='any')\n",
    "data_eight_df.count()"
   ]
  },
  {
   "cell_type": "code",
   "execution_count": 69,
   "metadata": {},
   "outputs": [
    {
     "data": {
      "text/html": [
       "<div>\n",
       "<style scoped>\n",
       "    .dataframe tbody tr th:only-of-type {\n",
       "        vertical-align: middle;\n",
       "    }\n",
       "\n",
       "    .dataframe tbody tr th {\n",
       "        vertical-align: top;\n",
       "    }\n",
       "\n",
       "    .dataframe thead th {\n",
       "        text-align: right;\n",
       "    }\n",
       "</style>\n",
       "<table border=\"1\" class=\"dataframe\">\n",
       "  <thead>\n",
       "    <tr style=\"text-align: right;\">\n",
       "      <th></th>\n",
       "      <th>ride_id</th>\n",
       "      <th>rideable_type</th>\n",
       "      <th>started_at</th>\n",
       "      <th>ended_at</th>\n",
       "      <th>start_station_name</th>\n",
       "      <th>start_station_id</th>\n",
       "      <th>end_station_name</th>\n",
       "      <th>end_station_id</th>\n",
       "      <th>start_lat</th>\n",
       "      <th>start_lng</th>\n",
       "      <th>end_lat</th>\n",
       "      <th>end_lng</th>\n",
       "      <th>member_casual</th>\n",
       "    </tr>\n",
       "  </thead>\n",
       "  <tbody>\n",
       "    <tr>\n",
       "      <th>2</th>\n",
       "      <td>A131F83CFA5C4044</td>\n",
       "      <td>electric_bike</td>\n",
       "      <td>2020-10-04 20:23:31</td>\n",
       "      <td>2020-10-04 20:41:59</td>\n",
       "      <td>Jordan Park</td>\n",
       "      <td>822.0</td>\n",
       "      <td>Nicollet Mall &amp; Grant Street</td>\n",
       "      <td>175.0</td>\n",
       "      <td>45.010184</td>\n",
       "      <td>-93.300522</td>\n",
       "      <td>44.970083</td>\n",
       "      <td>-93.278274</td>\n",
       "      <td>casual</td>\n",
       "    </tr>\n",
       "    <tr>\n",
       "      <th>22</th>\n",
       "      <td>C452DB47DB61CE64</td>\n",
       "      <td>classic_bike</td>\n",
       "      <td>2020-10-29 20:14:42</td>\n",
       "      <td>2020-10-29 20:22:03</td>\n",
       "      <td>Willey Hall</td>\n",
       "      <td>207.0</td>\n",
       "      <td>McNamara Center</td>\n",
       "      <td>59.0</td>\n",
       "      <td>44.972404</td>\n",
       "      <td>-93.242891</td>\n",
       "      <td>44.974300</td>\n",
       "      <td>-93.228540</td>\n",
       "      <td>casual</td>\n",
       "    </tr>\n",
       "    <tr>\n",
       "      <th>35</th>\n",
       "      <td>950F583CFBBB8ECE</td>\n",
       "      <td>electric_bike</td>\n",
       "      <td>2020-10-13 18:55:00</td>\n",
       "      <td>2020-10-13 19:12:49</td>\n",
       "      <td>SE 7th Street &amp; 10th Ave SE</td>\n",
       "      <td>202.0</td>\n",
       "      <td>Portland Ave &amp; Washington Ave</td>\n",
       "      <td>91.0</td>\n",
       "      <td>44.985596</td>\n",
       "      <td>-93.238698</td>\n",
       "      <td>44.978178</td>\n",
       "      <td>-93.260268</td>\n",
       "      <td>casual</td>\n",
       "    </tr>\n",
       "    <tr>\n",
       "      <th>49</th>\n",
       "      <td>CD1E4687B85975D7</td>\n",
       "      <td>electric_bike</td>\n",
       "      <td>2020-10-29 22:46:26</td>\n",
       "      <td>2020-10-29 22:54:59</td>\n",
       "      <td>4th Street &amp; 17th Ave SE</td>\n",
       "      <td>34.0</td>\n",
       "      <td>University &amp; Bank Street SE</td>\n",
       "      <td>49.0</td>\n",
       "      <td>44.979121</td>\n",
       "      <td>-93.231828</td>\n",
       "      <td>44.987201</td>\n",
       "      <td>-93.255822</td>\n",
       "      <td>casual</td>\n",
       "    </tr>\n",
       "    <tr>\n",
       "      <th>51</th>\n",
       "      <td>306E480ED4CFADE6</td>\n",
       "      <td>electric_bike</td>\n",
       "      <td>2020-10-21 14:34:15</td>\n",
       "      <td>2020-10-21 14:42:41</td>\n",
       "      <td>15th Ave SE &amp; SE 4th Street</td>\n",
       "      <td>209.0</td>\n",
       "      <td>University &amp; Bank Street SE</td>\n",
       "      <td>49.0</td>\n",
       "      <td>44.979904</td>\n",
       "      <td>-93.234762</td>\n",
       "      <td>44.987139</td>\n",
       "      <td>-93.255825</td>\n",
       "      <td>casual</td>\n",
       "    </tr>\n",
       "  </tbody>\n",
       "</table>\n",
       "</div>"
      ],
      "text/plain": [
       "             ride_id  rideable_type           started_at             ended_at  \\\n",
       "2   A131F83CFA5C4044  electric_bike  2020-10-04 20:23:31  2020-10-04 20:41:59   \n",
       "22  C452DB47DB61CE64   classic_bike  2020-10-29 20:14:42  2020-10-29 20:22:03   \n",
       "35  950F583CFBBB8ECE  electric_bike  2020-10-13 18:55:00  2020-10-13 19:12:49   \n",
       "49  CD1E4687B85975D7  electric_bike  2020-10-29 22:46:26  2020-10-29 22:54:59   \n",
       "51  306E480ED4CFADE6  electric_bike  2020-10-21 14:34:15  2020-10-21 14:42:41   \n",
       "\n",
       "             start_station_name  start_station_id  \\\n",
       "2                   Jordan Park             822.0   \n",
       "22                  Willey Hall             207.0   \n",
       "35  SE 7th Street & 10th Ave SE             202.0   \n",
       "49     4th Street & 17th Ave SE              34.0   \n",
       "51  15th Ave SE & SE 4th Street             209.0   \n",
       "\n",
       "                 end_station_name  end_station_id  start_lat  start_lng  \\\n",
       "2    Nicollet Mall & Grant Street           175.0  45.010184 -93.300522   \n",
       "22                McNamara Center            59.0  44.972404 -93.242891   \n",
       "35  Portland Ave & Washington Ave            91.0  44.985596 -93.238698   \n",
       "49    University & Bank Street SE            49.0  44.979121 -93.231828   \n",
       "51    University & Bank Street SE            49.0  44.979904 -93.234762   \n",
       "\n",
       "      end_lat    end_lng member_casual  \n",
       "2   44.970083 -93.278274        casual  \n",
       "22  44.974300 -93.228540        casual  \n",
       "35  44.978178 -93.260268        casual  \n",
       "49  44.987201 -93.255822        casual  \n",
       "51  44.987139 -93.255825        casual  "
      ]
     },
     "execution_count": 69,
     "metadata": {},
     "output_type": "execute_result"
    }
   ],
   "source": [
    "data_seven_df.head()"
   ]
  }
 ],
 "metadata": {
  "kernelspec": {
   "display_name": "Python [conda env:root] *",
   "language": "python",
   "name": "conda-root-py"
  },
  "language_info": {
   "codemirror_mode": {
    "name": "ipython",
    "version": 3
   },
   "file_extension": ".py",
   "mimetype": "text/x-python",
   "name": "python",
   "nbconvert_exporter": "python",
   "pygments_lexer": "ipython3",
   "version": "3.8.3"
  }
 },
 "nbformat": 4,
 "nbformat_minor": 4
}
